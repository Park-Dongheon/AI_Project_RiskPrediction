{
 "cells": [
  {
   "cell_type": "markdown",
   "id": "4e4ee9e8-3746-497c-b8e5-c1f74a9f2d7e",
   "metadata": {},
   "source": [
    "## 목차\n",
    "1. 환경 설정 및 라이브러리 설치\n",
    "2. 로그 설정 및 예외 처리 준비\n",
    "3. 데이터 로드 및 전처리\n",
    "4. 특징 분석 및 선택\n",
    "5. 특징 엔지니어링\n",
    "6. 데이터 준비 및 GPU 설정\n",
    "7. 모델 정의\n",
    "    - 7.1 LSTM Autoencoder 정의\n",
    "    - 7.2 LSTM Classifier 정의\n",
    "8. 모델 학습\n",
    "    - 8.1 LSTM Autoencoder 학습\n",
    "    - 8.2 LSTM Classifier 학습\n",
    "9. 모델 앙상블 및 통합\n",
    "10. 모델 평가 및 검증\n",
    "11. 결론"
   ]
  },
  {
   "cell_type": "markdown",
   "id": "b1f76db0-8956-41ac-9f3e-ae1857c64980",
   "metadata": {},
   "source": [
    "## 1. 환경 설정 및 라이브러리 설치"
   ]
  },
  {
   "cell_type": "code",
   "execution_count": 1,
   "id": "2051bff6-cf50-4fec-b468-1ba92a0fc44c",
   "metadata": {},
   "outputs": [],
   "source": [
    "# pip install pandas numpy scikit-learn torch torchvision matplotlib optuna joblib tqdm seaborn logging"
   ]
  },
  {
   "cell_type": "markdown",
   "id": "d6660f33-7c3b-4187-b60d-01245c32fe41",
   "metadata": {},
   "source": [
    "## 2. 로그 설정 및 예외 처리 준비\n",
    "\n",
    "> `logging` 모듈을 사용하여 로그를 설정하고, 예외 처리를 위한 기본 구성"
   ]
  },
  {
   "cell_type": "code",
   "execution_count": 2,
   "id": "6ea477ec-91a7-4916-bef6-bc986229a101",
   "metadata": {},
   "outputs": [],
   "source": [
    "import logging\n",
    "import sys\n",
    "\n",
    "# 로그 설정\n",
    "logging.basicConfig(level=logging.INFO, format='%(asctime)s [%(levelname)s] %(message)s', handlers=[\n",
    "    logging.StreamHandler(sys.stdout),\n",
    "    logging.FileHandler(\"./Log/model_training.log\")\n",
    "])\n",
    "\n",
    "# 예외 처리 데코레이터\n",
    "def exception_handler(func):\n",
    "    def wrapper(*args, **kwargs):\n",
    "        try:\n",
    "            return func(*args, **kwargs)\n",
    "        except Exception as e:\n",
    "            logging.exception(f\"에러 발생: {e}\")\n",
    "            raise e\n",
    "    return wrapper"
   ]
  },
  {
   "cell_type": "markdown",
   "id": "6fce1d3b-aa2c-4bf1-b89a-dc4b86990210",
   "metadata": {},
   "source": [
    "## 3. 데이터 로드 및 전처리\n",
    "\n",
    "### 3.1 데이터 로드\n",
    "\n",
    "> 데이터를 로드하고 기본적인 전처리를 수행"
   ]
  },
  {
   "cell_type": "code",
   "execution_count": 3,
   "id": "860ea7ba-a3b2-4f14-ad56-10ad186f3ab4",
   "metadata": {
    "scrolled": true
   },
   "outputs": [
    {
     "name": "stdout",
     "output_type": "stream",
     "text": [
      "2024-11-14 16:53:58,212 [INFO] NumExpr defaulting to 8 threads.\n",
      "2024-11-14 16:53:59,934 [INFO] 데이터 로드 중...\n",
      "2024-11-14 16:58:47,300 [INFO] 데이터셋 크기: (30526925, 12)\n"
     ]
    }
   ],
   "source": [
    "import pandas as pd\n",
    "import numpy as np\n",
    "from sklearn.preprocessing import StandardScaler\n",
    "import joblib\n",
    "import tqdm\n",
    "\n",
    "@exception_handler\n",
    "def load_data(data_path):\n",
    "    # 데이터 타입 지정 (메모리 최적화)\n",
    "    dtype_dict = {\n",
    "        'HEARTBEAT': 'float32',\n",
    "        'TEMPERATURE': 'float32',\n",
    "        'OUTSIDETEMPERATURE': 'float32',\n",
    "        'LATITUDE': 'float32',\n",
    "        'LONGITUDE': 'float32',\n",
    "        'SPEED': 'float32',\n",
    "        'X': 'float32',\n",
    "        'Y': 'float32',\n",
    "        'Z': 'float32'\n",
    "    }\n",
    "\n",
    "    # 날짜 형식 파싱\n",
    "    parse_dates = ['VITALDATE', 'CHECKTIME', 'WORKDATE']\n",
    "\n",
    "    # 데이터 로드\n",
    "    logging.info(\"데이터 로드 중...\")\n",
    "    df = pd.read_csv(data_path, dtype=dtype_dict, parse_dates=parse_dates)\n",
    "    logging.info(f\"데이터셋 크기: {df.shape}\")\n",
    "    return df\n",
    "\n",
    "# 데이터 경로\n",
    "data_path = './dataset/RiskPrediction_Dataset.csv'\n",
    "df = load_data(data_path)"
   ]
  },
  {
   "cell_type": "markdown",
   "id": "a4e40c9c-1533-4a86-a2d9-f5c1d1e30f56",
   "metadata": {},
   "source": [
    "### 3.2 결측치 처리"
   ]
  },
  {
   "cell_type": "code",
   "execution_count": 4,
   "id": "af60a16a-7053-4aad-a051-71491e15c309",
   "metadata": {
    "scrolled": true
   },
   "outputs": [
    {
     "name": "stdout",
     "output_type": "stream",
     "text": [
      "2024-11-14 16:58:47,309 [INFO] 결측치 처리 중...\n"
     ]
    }
   ],
   "source": [
    "@exception_handler\n",
    "def handle_missing_values(df):\n",
    "    numeric_cols = ['HEARTBEAT', \n",
    "                    'TEMPERATURE', \n",
    "                    'OUTSIDETEMPERATURE',\n",
    "                    'LATITUDE', \n",
    "                    'LONGITUDE',\n",
    "                    'SPEED',\n",
    "                    'X',\n",
    "                    'Y', \n",
    "                    'Z']\n",
    "    logging.info(\"결측치 처리 중...\")\n",
    "    df[numeric_cols] = df[numeric_cols].fillna(df[numeric_cols].median())\n",
    "    return df\n",
    "\n",
    "df = handle_missing_values(df)"
   ]
  },
  {
   "cell_type": "markdown",
   "id": "3f5ec36f-d3b9-4d60-b366-34d61071981a",
   "metadata": {},
   "source": [
    "### 3.3 특성 엔지니어링"
   ]
  },
  {
   "cell_type": "code",
   "execution_count": 5,
   "id": "217a88c4-83d8-48eb-a287-e2864aea6cbb",
   "metadata": {
    "scrolled": true
   },
   "outputs": [
    {
     "name": "stdout",
     "output_type": "stream",
     "text": [
      "2024-11-14 16:58:50,042 [INFO] 특성 엔지니어링 진행 중...\n"
     ]
    }
   ],
   "source": [
    "@exception_handler\n",
    "def feature_engineering(df):\n",
    "    logging.info(\"특성 엔지니어링 진행 중...\")\n",
    "    # 날짜 및 시간에서 시간, 분, 초 추출\n",
    "    df['VITAL_HOUR'] = df['VITALDATE'].dt.hour\n",
    "    df['VITAL_MINUTE'] = df['VITALDATE'].dt.minute\n",
    "    df['VITAL_SECOND'] = df['VITALDATE'].dt.second\n",
    "\n",
    "    df['CHECK_HOUR'] = df['CHECKTIME'].dt.hour\n",
    "    df['CHECK_MINUTE'] = df['CHECKTIME'].dt.minute\n",
    "    df['CHECK_SECOND'] = df['CHECKTIME'].dt.second\n",
    "\n",
    "    # 원본 날짜 컬럼 삭제\n",
    "    df = df.drop(columns=['VITALDATE', 'CHECKTIME', 'WORKDATE'])\n",
    "    return df\n",
    "\n",
    "df = feature_engineering(df)"
   ]
  },
  {
   "cell_type": "markdown",
   "id": "02f19bca-7589-444c-be0f-72df1bd509b6",
   "metadata": {},
   "source": [
    "### 3.4 스케일링"
   ]
  },
  {
   "cell_type": "code",
   "execution_count": 6,
   "id": "610cf390-cf17-4e37-993f-c2dd871b5da0",
   "metadata": {
    "scrolled": true
   },
   "outputs": [
    {
     "name": "stdout",
     "output_type": "stream",
     "text": [
      "2024-11-14 16:59:00,020 [INFO] 데이터 스케일링 중...\n",
      "2024-11-14 16:59:06,819 [INFO] 스케일러 저장 완료.\n"
     ]
    }
   ],
   "source": [
    "@exception_handler\n",
    "def scale_data(df):\n",
    "    logging.info(\"데이터 스케일링 중...\")\n",
    "    scaler = StandardScaler()\n",
    "    scaled_data = scaler.fit_transform(df)\n",
    "    # 스케일러 저장\n",
    "    joblib.dump(scaler, './Scaler1/scaler.joblib')\n",
    "    logging.info(\"스케일러 저장 완료.\")\n",
    "    return scaled_data\n",
    "\n",
    "scaled_data = scale_data(df)"
   ]
  },
  {
   "cell_type": "markdown",
   "id": "0a863cd5-7fe9-418c-9f8e-b487c6a16023",
   "metadata": {},
   "source": [
    "## 4. 특징 분석 및 선택"
   ]
  },
  {
   "cell_type": "code",
   "execution_count": 7,
   "id": "6a16a395-785b-4d65-82f3-6ebf6610c525",
   "metadata": {
    "collapsed": true,
    "jupyter": {
     "outputs_hidden": true
    },
    "scrolled": true
   },
   "outputs": [
    {
     "name": "stdout",
     "output_type": "stream",
     "text": [
      "2024-11-14 16:59:07,855 [INFO] 특징 분석 및 선택 진행 중...\n"
     ]
    },
    {
     "data": {
      "image/png": "[encoded data removed]",
      "text/plain": [
       "<Figure size 1200x1000 with 2 Axes>"
      ]
     },
     "metadata": {},
     "output_type": "display_data"
    }
   ],
   "source": [
    "import matplotlib.pyplot as plt\n",
    "import seaborn as sns\n",
    "\n",
    "@exception_handler\n",
    "def feature_analysis(df):\n",
    "    logging.info(\"특징 분석 및 선택 진행 중...\")\n",
    "    # 상관 관계 분석\n",
    "    numeric_cols = df.select_dtypes(include=['float32', 'int64']).columns\n",
    "    corr_matrix = df[numeric_cols].corr()\n",
    "\n",
    "    # 히트맵 시각화\n",
    "    plt.figure(figsize=(12, 10))\n",
    "    sns.heatmap(corr_matrix, annot=True, fmt=\".2f\", cmap='coolwarm')\n",
    "    plt.show()\n",
    "\n",
    "    # 중요하지 않거나 중복되는 특징 제거\n",
    "    # 상관 관계가 높은 특징들 중 하나를 선택적으로 제거\n",
    "    # df = df.drop(columns=['LONGITUDE'])\n",
    "\n",
    "    return df\n",
    "\n",
    "df = feature_analysis(df)"
   ]
  },
  {
   "cell_type": "markdown",
   "id": "5258eb0c-811a-49c8-a29e-c658fa66666d",
   "metadata": {},
   "source": [
    "## 5. 특징 엔지니어링\n",
    "\n",
    "> 새로운 특징을 생성하고, 필요한 경우 기존 특징을 변환함"
   ]
  },
  {
   "cell_type": "code",
   "execution_count": 8,
   "id": "0e4f5910-c073-41e9-b811-46b1dd83d986",
   "metadata": {
    "scrolled": true
   },
   "outputs": [
    {
     "name": "stdout",
     "output_type": "stream",
     "text": [
      "2024-11-14 16:59:15,098 [INFO] 추가적인 특징 엔지니어링 진행 중...\n"
     ]
    }
   ],
   "source": [
    "@exception_handler\n",
    "def additional_feature_engineering(df):\n",
    "    logging.info(\"추가적인 특징 엔지니어링 진행 중...\")\n",
    "    # 이동 평균, 변화율 등 생성\n",
    "    df['HEARTBEAT_DIFF'] = df['HEARTBEAT'].diff().fillna(0)\n",
    "    df['TEMPERATURE_DIFF'] = df['TEMPERATURE'].diff().fillna(0)\n",
    "\n",
    "    # 시간에 따른 특징 생성\n",
    "    df['TIME_SIN'] = np.sin(2 * np.pi * df['VITAL_HOUR'] / 24)\n",
    "    df['TIME_COS'] = np.cos(2 * np.pi * df['VITAL_HOUR'] / 24)\n",
    "\n",
    "    return df\n",
    "\n",
    "df = additional_feature_engineering(df)"
   ]
  },
  {
   "cell_type": "markdown",
   "id": "22197896-d815-4324-9458-4f6b5d10dfa7",
   "metadata": {},
   "source": [
    "> 스케일링을 다시 수행"
   ]
  },
  {
   "cell_type": "code",
   "execution_count": 9,
   "id": "764d7961-00c0-4b0c-80cf-901b7ed7ddd1",
   "metadata": {
    "scrolled": true
   },
   "outputs": [
    {
     "name": "stdout",
     "output_type": "stream",
     "text": [
      "2024-11-14 16:59:16,191 [INFO] 데이터 스케일링 중...\n",
      "2024-11-14 16:59:25,012 [INFO] 스케일러 저장 완료.\n"
     ]
    }
   ],
   "source": [
    "scaled_data = scale_data(df)"
   ]
  },
  {
   "cell_type": "markdown",
   "id": "423c55b7-c9c3-44f9-bcf9-062939d9217a",
   "metadata": {},
   "source": [
    "## 6. 데이터 준비 및 GPU 설정"
   ]
  },
  {
   "cell_type": "code",
   "execution_count": 10,
   "id": "7d20d36c-e7a9-425d-90ea-a0b241f7d5ef",
   "metadata": {
    "scrolled": true
   },
   "outputs": [
    {
     "name": "stdout",
     "output_type": "stream",
     "text": [
      "2024-11-14 16:59:30,626 [INFO] 데이터 준비 및 GPU 설정 중...\n",
      "2024-11-14 16:59:30,754 [INFO] 사용 중인 디바이스: cuda\n",
      "2024-11-14 17:03:48,177 [INFO] 시퀸스 데이터 크기: torch.Size([30526915, 10, 19])\n"
     ]
    }
   ],
   "source": [
    "import torch\n",
    "from torch.utils.data import DataLoader, TensorDataset\n",
    "\n",
    "@exception_handler\n",
    "def prepare_data(scaled_data):\n",
    "    logging.info(\"데이터 준비 및 GPU 설정 중...\")\n",
    "    # GPU 설정\n",
    "    device = torch.device(\"cuda\" if torch.cuda.is_available() else \"cpu\")\n",
    "    logging.info(f\"사용 중인 디바이스: {device}\")\n",
    "\n",
    "    # 텐서로 변환\n",
    "    data_tensor = torch.tensor(scaled_data, dtype=torch.float32)\n",
    "\n",
    "    # 시퀸스 데이터 생성 (LSTM 입력을 위해)\n",
    "    sequence_length = 10  # 시퀸스 길이\n",
    "    sequences = []\n",
    "    for i in range(len(data_tensor) - sequence_length):\n",
    "        sequences.append(data_tensor[i:i + sequence_length])\n",
    "\n",
    "    sequences = torch.stack(sequences)\n",
    "    logging.info(f\"시퀸스 데이터 크기: {sequences.shape}\")\n",
    "\n",
    "    return sequences, device\n",
    "\n",
    "data_sequences, device = prepare_data(scaled_data)"
   ]
  },
  {
   "cell_type": "markdown",
   "id": "b8e0a3c6-2186-4522-be37-eac49834c59d",
   "metadata": {},
   "source": [
    "## 7. 모델 정의\n",
    "\n",
    "### 7.1 LSTM Autoencoder 정의"
   ]
  },
  {
   "cell_type": "code",
   "execution_count": 11,
   "id": "5351c0a3-552b-43aa-a198-9ce095348f0f",
   "metadata": {},
   "outputs": [],
   "source": [
    "import torch.nn as nn\n",
    "\n",
    "class LSTMAutoencoder(nn.Module):\n",
    "    def __init__(self, seq_len, n_features, embedding_dim=64):\n",
    "        super(LSTMAutoencoder, self).__init__()\n",
    "        self.seq_len = seq_len\n",
    "        self.n_features = n_features\n",
    "        self.embedding_dim = embedding_dim\n",
    "\n",
    "        self.encoder = nn.LSTM(\n",
    "            input_size = n_features,\n",
    "            hidden_size = embedding_dim,\n",
    "            num_layers = 1,\n",
    "            batch_first = True\n",
    "        )\n",
    "\n",
    "        self.decoder = nn.LSTM(\n",
    "            input_size = embedding_dim,\n",
    "            hidden_size = n_features,\n",
    "            num_layers = 1,\n",
    "            batch_first = True\n",
    "        )\n",
    "\n",
    "    def forward(self, x):\n",
    "        # 인코더\n",
    "        _, (hidden, _) = self.encoder(x)\n",
    "        # 반복적으로 디코더에 입력\n",
    "        decoder_input = hidden.repeat(self.seq_len, 1, 1).permute(1, 0, 2)\n",
    "        output, (hidden, cell) = self.decoder(decoder_input)\n",
    "        return output\n",
    "\n",
    "input_dim = data_sequences.shape[2]"
   ]
  },
  {
   "cell_type": "markdown",
   "id": "0b30a50c-352e-463d-b657-296de8f466e2",
   "metadata": {},
   "source": [
    "### 7.2 LSTM Classifier 정의"
   ]
  },
  {
   "cell_type": "code",
   "execution_count": 12,
   "id": "74ea8c96-313a-426f-bcc4-5cad5589c45c",
   "metadata": {},
   "outputs": [],
   "source": [
    "class LSTMClassifier(nn.Module):\n",
    "    def __init__(self, input_size, hidden_size, num_layers, num_classes):\n",
    "        super(LSTMClassifier, self).__init__()\n",
    "        self.hidden_size = hidden_size\n",
    "        self.num_layers = num_layers\n",
    "\n",
    "        self.lstm = nn.LSTM(input_size, hidden_size, num_layers, batch_first=True)\n",
    "        self.fc = nn.Linear(hidden_size, num_classes)  # 최종 출력층\n",
    "\n",
    "    def forward(self, x):\n",
    "        # 초기 은닉 상태와 셀 상태 설정\n",
    "        h0 = torch.zeros(self.num_layers, x.size(0), self.hidden_size).to(device)\n",
    "        c0 = torch.zeros(self.num_layers, x.size(0), self.hidden_size).to(device)\n",
    "\n",
    "        # LSTM 통과\n",
    "        out, _ = self.lstm(x, (h0, c0))\n",
    "\n",
    "        # 마지막 시점의 은닉 상태를 사용\n",
    "        out = out[:, -1, :]\n",
    "        out = self.fc(out)\n",
    "        return out"
   ]
  },
  {
   "cell_type": "markdown",
   "id": "e50331f8-b5ca-4584-9faa-1f40ea7f68ed",
   "metadata": {},
   "source": [
    "## 8. 모델 학습\n",
    "\n",
    "### 8.1 LSTM Autoencoder 학습"
   ]
  },
  {
   "cell_type": "code",
   "execution_count": 13,
   "id": "91940986-b473-4359-8768-3c16fe041a9a",
   "metadata": {
    "scrolled": true
   },
   "outputs": [
    {
     "name": "stdout",
     "output_type": "stream",
     "text": [
      "2024-11-14 17:03:48,727 [INFO] LSTM Autoencoder 모델 학습 시작...\n"
     ]
    },
    {
     "name": "stderr",
     "output_type": "stream",
     "text": [
      "LSTM Autoencoder 학습 진행:   0%|                                                               | 0/50 [00:00<?, ?it/s]"
     ]
    },
    {
     "name": "stdout",
     "output_type": "stream",
     "text": [
      "2024-11-14 17:27:36,414 [INFO] Epoch [1 / 50], Loss: 0.448699\n"
     ]
    },
    {
     "name": "stderr",
     "output_type": "stream",
     "text": [
      "LSTM Autoencoder 학습 진행:   2%|█                                                 | 1/50 [32:17<26:22:13, 1937.43s/it]\n"
     ]
    },
    {
     "ename": "KeyboardInterrupt",
     "evalue": "",
     "output_type": "error",
     "traceback": [
      "\u001b[1;31m---------------------------------------------------------------------------\u001b[0m",
      "\u001b[1;31mKeyboardInterrupt\u001b[0m                         Traceback (most recent call last)",
      "Cell \u001b[1;32mIn[13], line 54\u001b[0m\n\u001b[0;32m     50\u001b[0m     logging\u001b[38;5;241m.\u001b[39minfo(\u001b[38;5;124m\"\u001b[39m\u001b[38;5;124mLSTM Autoencoder 모델 저장 완료.\u001b[39m\u001b[38;5;124m\"\u001b[39m)\n\u001b[0;32m     52\u001b[0m     \u001b[38;5;28;01mreturn\u001b[39;00m model\n\u001b[1;32m---> 54\u001b[0m lstm_autoencoder_model \u001b[38;5;241m=\u001b[39m \u001b[43mtrain_lstm_autoencoder\u001b[49m\u001b[43m(\u001b[49m\u001b[43mdata_sequences\u001b[49m\u001b[43m,\u001b[49m\u001b[43m \u001b[49m\u001b[43minput_dim\u001b[49m\u001b[43m,\u001b[49m\u001b[43m \u001b[49m\u001b[43mdevice\u001b[49m\u001b[43m)\u001b[49m\n",
      "Cell \u001b[1;32mIn[2], line 14\u001b[0m, in \u001b[0;36mexception_handler.<locals>.wrapper\u001b[1;34m(*args, **kwargs)\u001b[0m\n\u001b[0;32m     12\u001b[0m \u001b[38;5;28;01mdef\u001b[39;00m \u001b[38;5;21mwrapper\u001b[39m(\u001b[38;5;241m*\u001b[39margs, \u001b[38;5;241m*\u001b[39m\u001b[38;5;241m*\u001b[39mkwargs):\n\u001b[0;32m     13\u001b[0m     \u001b[38;5;28;01mtry\u001b[39;00m:\n\u001b[1;32m---> 14\u001b[0m         \u001b[38;5;28;01mreturn\u001b[39;00m func(\u001b[38;5;241m*\u001b[39margs, \u001b[38;5;241m*\u001b[39m\u001b[38;5;241m*\u001b[39mkwargs)\n\u001b[0;32m     15\u001b[0m     \u001b[38;5;28;01mexcept\u001b[39;00m \u001b[38;5;167;01mException\u001b[39;00m \u001b[38;5;28;01mas\u001b[39;00m e:\n\u001b[0;32m     16\u001b[0m         logging\u001b[38;5;241m.\u001b[39mexception(\u001b[38;5;124mf\u001b[39m\u001b[38;5;124m\"\u001b[39m\u001b[38;5;124m에러 발생: \u001b[39m\u001b[38;5;132;01m{\u001b[39;00me\u001b[38;5;132;01m}\u001b[39;00m\u001b[38;5;124m\"\u001b[39m)\n",
      "Cell \u001b[1;32mIn[13], line 25\u001b[0m, in \u001b[0;36mtrain_lstm_autoencoder\u001b[1;34m(data_sequences, input_dim, device)\u001b[0m\n\u001b[0;32m     23\u001b[0m inputs \u001b[38;5;241m=\u001b[39m data[\u001b[38;5;241m0\u001b[39m]\u001b[38;5;241m.\u001b[39mto(device)\n\u001b[0;32m     24\u001b[0m outputs \u001b[38;5;241m=\u001b[39m model(inputs)\n\u001b[1;32m---> 25\u001b[0m loss \u001b[38;5;241m=\u001b[39m \u001b[43mcriterion\u001b[49m\u001b[43m(\u001b[49m\u001b[43moutputs\u001b[49m\u001b[43m,\u001b[49m\u001b[43m \u001b[49m\u001b[43minputs\u001b[49m\u001b[43m)\u001b[49m\n\u001b[0;32m     27\u001b[0m optimizer\u001b[38;5;241m.\u001b[39mzero_grad()\n\u001b[0;32m     28\u001b[0m loss\u001b[38;5;241m.\u001b[39mbackward()\n",
      "File \u001b[1;32m~\\anaconda3\\envs\\ai\\lib\\site-packages\\torch\\nn\\modules\\module.py:1736\u001b[0m, in \u001b[0;36mModule._wrapped_call_impl\u001b[1;34m(self, *args, **kwargs)\u001b[0m\n\u001b[0;32m   1734\u001b[0m     \u001b[38;5;28;01mreturn\u001b[39;00m \u001b[38;5;28mself\u001b[39m\u001b[38;5;241m.\u001b[39m_compiled_call_impl(\u001b[38;5;241m*\u001b[39margs, \u001b[38;5;241m*\u001b[39m\u001b[38;5;241m*\u001b[39mkwargs)  \u001b[38;5;66;03m# type: ignore[misc]\u001b[39;00m\n\u001b[0;32m   1735\u001b[0m \u001b[38;5;28;01melse\u001b[39;00m:\n\u001b[1;32m-> 1736\u001b[0m     \u001b[38;5;28;01mreturn\u001b[39;00m \u001b[38;5;28mself\u001b[39m\u001b[38;5;241m.\u001b[39m_call_impl(\u001b[38;5;241m*\u001b[39margs, \u001b[38;5;241m*\u001b[39m\u001b[38;5;241m*\u001b[39mkwargs)\n",
      "File \u001b[1;32m~\\anaconda3\\envs\\ai\\lib\\site-packages\\torch\\nn\\modules\\module.py:1747\u001b[0m, in \u001b[0;36mModule._call_impl\u001b[1;34m(self, *args, **kwargs)\u001b[0m\n\u001b[0;32m   1742\u001b[0m \u001b[38;5;66;03m# If we don't have any hooks, we want to skip the rest of the logic in\u001b[39;00m\n\u001b[0;32m   1743\u001b[0m \u001b[38;5;66;03m# this function, and just call forward.\u001b[39;00m\n\u001b[0;32m   1744\u001b[0m \u001b[38;5;28;01mif\u001b[39;00m \u001b[38;5;129;01mnot\u001b[39;00m (\u001b[38;5;28mself\u001b[39m\u001b[38;5;241m.\u001b[39m_backward_hooks \u001b[38;5;129;01mor\u001b[39;00m \u001b[38;5;28mself\u001b[39m\u001b[38;5;241m.\u001b[39m_backward_pre_hooks \u001b[38;5;129;01mor\u001b[39;00m \u001b[38;5;28mself\u001b[39m\u001b[38;5;241m.\u001b[39m_forward_hooks \u001b[38;5;129;01mor\u001b[39;00m \u001b[38;5;28mself\u001b[39m\u001b[38;5;241m.\u001b[39m_forward_pre_hooks\n\u001b[0;32m   1745\u001b[0m         \u001b[38;5;129;01mor\u001b[39;00m _global_backward_pre_hooks \u001b[38;5;129;01mor\u001b[39;00m _global_backward_hooks\n\u001b[0;32m   1746\u001b[0m         \u001b[38;5;129;01mor\u001b[39;00m _global_forward_hooks \u001b[38;5;129;01mor\u001b[39;00m _global_forward_pre_hooks):\n\u001b[1;32m-> 1747\u001b[0m     \u001b[38;5;28;01mreturn\u001b[39;00m forward_call(\u001b[38;5;241m*\u001b[39margs, \u001b[38;5;241m*\u001b[39m\u001b[38;5;241m*\u001b[39mkwargs)\n\u001b[0;32m   1749\u001b[0m result \u001b[38;5;241m=\u001b[39m \u001b[38;5;28;01mNone\u001b[39;00m\n\u001b[0;32m   1750\u001b[0m called_always_called_hooks \u001b[38;5;241m=\u001b[39m \u001b[38;5;28mset\u001b[39m()\n",
      "File \u001b[1;32m~\\anaconda3\\envs\\ai\\lib\\site-packages\\torch\\nn\\modules\\loss.py:608\u001b[0m, in \u001b[0;36mMSELoss.forward\u001b[1;34m(self, input, target)\u001b[0m\n\u001b[0;32m    607\u001b[0m \u001b[38;5;28;01mdef\u001b[39;00m \u001b[38;5;21mforward\u001b[39m(\u001b[38;5;28mself\u001b[39m, \u001b[38;5;28minput\u001b[39m: Tensor, target: Tensor) \u001b[38;5;241m-\u001b[39m\u001b[38;5;241m>\u001b[39m Tensor:\n\u001b[1;32m--> 608\u001b[0m     \u001b[38;5;28;01mreturn\u001b[39;00m \u001b[43mF\u001b[49m\u001b[38;5;241;43m.\u001b[39;49m\u001b[43mmse_loss\u001b[49m\u001b[43m(\u001b[49m\u001b[38;5;28;43minput\u001b[39;49m\u001b[43m,\u001b[49m\u001b[43m \u001b[49m\u001b[43mtarget\u001b[49m\u001b[43m,\u001b[49m\u001b[43m \u001b[49m\u001b[43mreduction\u001b[49m\u001b[38;5;241;43m=\u001b[39;49m\u001b[38;5;28;43mself\u001b[39;49m\u001b[38;5;241;43m.\u001b[39;49m\u001b[43mreduction\u001b[49m\u001b[43m)\u001b[49m\n",
      "File \u001b[1;32m~\\anaconda3\\envs\\ai\\lib\\site-packages\\torch\\nn\\functional.py:3791\u001b[0m, in \u001b[0;36mmse_loss\u001b[1;34m(input, target, size_average, reduce, reduction)\u001b[0m\n\u001b[0;32m   3788\u001b[0m \u001b[38;5;28;01mif\u001b[39;00m size_average \u001b[38;5;129;01mis\u001b[39;00m \u001b[38;5;129;01mnot\u001b[39;00m \u001b[38;5;28;01mNone\u001b[39;00m \u001b[38;5;129;01mor\u001b[39;00m reduce \u001b[38;5;129;01mis\u001b[39;00m \u001b[38;5;129;01mnot\u001b[39;00m \u001b[38;5;28;01mNone\u001b[39;00m:\n\u001b[0;32m   3789\u001b[0m     reduction \u001b[38;5;241m=\u001b[39m _Reduction\u001b[38;5;241m.\u001b[39mlegacy_get_string(size_average, reduce)\n\u001b[1;32m-> 3791\u001b[0m expanded_input, expanded_target \u001b[38;5;241m=\u001b[39m \u001b[43mtorch\u001b[49m\u001b[38;5;241;43m.\u001b[39;49m\u001b[43mbroadcast_tensors\u001b[49m\u001b[43m(\u001b[49m\u001b[38;5;28;43minput\u001b[39;49m\u001b[43m,\u001b[49m\u001b[43m \u001b[49m\u001b[43mtarget\u001b[49m\u001b[43m)\u001b[49m\n\u001b[0;32m   3792\u001b[0m \u001b[38;5;28;01mreturn\u001b[39;00m torch\u001b[38;5;241m.\u001b[39m_C\u001b[38;5;241m.\u001b[39m_nn\u001b[38;5;241m.\u001b[39mmse_loss(\n\u001b[0;32m   3793\u001b[0m     expanded_input, expanded_target, _Reduction\u001b[38;5;241m.\u001b[39mget_enum(reduction)\n\u001b[0;32m   3794\u001b[0m )\n",
      "File \u001b[1;32m~\\anaconda3\\envs\\ai\\lib\\site-packages\\torch\\functional.py:76\u001b[0m, in \u001b[0;36mbroadcast_tensors\u001b[1;34m(*tensors)\u001b[0m\n\u001b[0;32m     74\u001b[0m \u001b[38;5;28;01mif\u001b[39;00m has_torch_function(tensors):\n\u001b[0;32m     75\u001b[0m     \u001b[38;5;28;01mreturn\u001b[39;00m handle_torch_function(broadcast_tensors, tensors, \u001b[38;5;241m*\u001b[39mtensors)\n\u001b[1;32m---> 76\u001b[0m \u001b[38;5;28;01mreturn\u001b[39;00m \u001b[43m_VF\u001b[49m\u001b[38;5;241;43m.\u001b[39;49m\u001b[43mbroadcast_tensors\u001b[49m\u001b[43m(\u001b[49m\u001b[43mtensors\u001b[49m\u001b[43m)\u001b[49m\n",
      "\u001b[1;31mKeyboardInterrupt\u001b[0m: "
     ]
    }
   ],
   "source": [
    "from tqdm import tqdm\n",
    "\n",
    "@exception_handler\n",
    "def train_lstm_autoencoder(data_sequences, input_dim, device):\n",
    "    logging.info(\"LSTM Autoencoder 모델 학습 시작...\")\n",
    "\n",
    "    model = LSTMAutoencoder(seq_len=data_sequences.shape[1],\n",
    "                            n_features=input_dim,\n",
    "                            embedding_dim=64).to(device)\n",
    "    criterion = nn.MSELoss()\n",
    "    optimizer = torch.optim.Adam(model.parameters(), lr=0.001)\n",
    "\n",
    "    num_epochs = 50\n",
    "    batch_size = 64\n",
    "    dataset = TensorDataset(data_sequences)\n",
    "    dataloader = DataLoader(dataset, batch_size=batch_size, shuffle=True)\n",
    "\n",
    "    model.train()\n",
    "    epoch_losses = []\n",
    "    for epoch in tqdm(range(num_epochs), desc=\"LSTM Autoencoder 학습 진행\"):\n",
    "        epoch_loss = 0\n",
    "        for data in dataloader:\n",
    "            inputs = data[0].to(device)\n",
    "            outputs = model(inputs)\n",
    "            loss = criterion(outputs, inputs)\n",
    "\n",
    "            optimizer.zero_grad()\n",
    "            loss.backward()\n",
    "            optimizer.step()\n",
    "\n",
    "            epoch_loss += loss.item() * inputs.size(0)\n",
    "        epoch_loss /= len(dataloader.dataset)\n",
    "        epoch_losses.append(epoch_loss)\n",
    "        if (epoch + 1) % 5 == 0 or epoch == 0:\n",
    "            logging.info(f\"Epoch [{epoch + 1} / {num_epochs}], Loss: {epoch_loss:.6f}\")\n",
    "\n",
    "    logging.info(\"LSTM Autoencoder 모델 학습 완료.\")\n",
    "\n",
    "    # 손실 시각화\n",
    "    plt.figure()\n",
    "    plt.plot(range(1, num_epochs + 1), epoch_losses, marker='o')\n",
    "    plt.title('LSTM Autoencoder 학습 손실')\n",
    "    plt.xlabel('Epoch')\n",
    "    plt.ylabel('Loss')\n",
    "    plt.grid(True)\n",
    "    plt.show()\n",
    "\n",
    "    # 모델 저장\n",
    "    torch.save(model.state_dict(), './Models/lstm_autoencoder.pth')\n",
    "    logging.info(\"LSTM Autoencoder 모델 저장 완료.\")\n",
    "\n",
    "    return model\n",
    "\n",
    "lstm_autoencoder_model = train_lstm_autoencoder(data_sequences, input_dim, device)"
   ]
  },
  {
   "cell_type": "markdown",
   "id": "55d2ffde-83e0-422b-9f0e-19fe84746e6e",
   "metadata": {},
   "source": [
    "### 8.2 LSTM Classifier 학습\n",
    "\n",
    "> 레이블이 필요한 지도 학습 모델, 여기서는 랜덤하게 레이블을 생성하여 학습"
   ]
  },
  {
   "cell_type": "code",
   "execution_count": null,
   "id": "abb91e44-1332-45a7-bfd7-303dea7d77de",
   "metadata": {},
   "outputs": [],
   "source": [
    "@exception_handler\n",
    "def train_lstm_classifier(data_sequences, device):\n",
    "    logging.info(\"LSTM Classifier 모델 학습 시작...\")\n",
    "\n",
    "    # 랜덤 레이블 생성\n",
    "    num_classes = 6    # 6개의 행동 분류\n",
    "    labels = torch.randint(0, num_classes, (len(data_sequences),))\n",
    "\n",
    "    dataset = TensorDataset(data_sequences, labels)\n",
    "    batch_size = 64\n",
    "    dataloader = DataLoader(dataset,\n",
    "                            batch_size=batch_size,\n",
    "                            shuffle=True)\n",
    "\n",
    "    model = LSTMClassifier(input_size=input_dim,\n",
    "                           hidden_size=128,\n",
    "                           num_layers=2,\n",
    "                           num_classes=num_classes).to(device)\n",
    "    criterion = nn.CrossEntropyLoss()\n",
    "    optimizer = torch.optim.Adam(model.parameters(), lr=0.001)\n",
    "\n",
    "    num_epochs = 50\n",
    "    model.train()\n",
    "    for epoch in tqdm(range(num_epochs), desc=\"LSTM Classifier 학습 진행\"):\n",
    "        epoch_loss = 0\n",
    "        for inputs, targets in dataloader:\n",
    "            inputs = inputs.to(device)\n",
    "            targets = targets.to(device)\n",
    "\n",
    "            outputs = model(inputs)\n",
    "            loss = criterion(outputs, targets)\n",
    "\n",
    "            optimizer.zero_grad()\n",
    "            loss.backward()\n",
    "            optimizer.step()\n",
    "\n",
    "            epoch_loss += loss.item() * inputs.size(0)\n",
    "        epoch_loss /= len(dataloader.dataset)\n",
    "        if (epoch + 1) % 5 == 0 or epoch == 0:\n",
    "            logging.info(f\"Epoch [{epoch + 1} / {num_epochs}], Loss: {epoch_loss:.6f}\")\n",
    "\n",
    "    logging.info(\"LSTM Classifier 모델 학습 완료.\")\n",
    "\n",
    "    # 모델 저장\n",
    "    torch.save(model.state_dict(), './Models/lstm_classifier.pth')\n",
    "    logging.info(\"LSTM Classifier 모델 저장 완료.\")\n",
    "\n",
    "    return model\n",
    "\n",
    "lstm_classifier_model = train_lstm_classifier(data_sequences, device)"
   ]
  },
  {
   "cell_type": "markdown",
   "id": "c3c29883-3dc7-4c46-a7dd-48eb8cfcf525",
   "metadata": {},
   "source": [
    "## 9. 모델 앙상블 및 통합\n",
    "\n",
    "> LSTM Autoencoder의 재구성 오차와 LSTM Classifier의 예측 결과를 결합하여 최종 위험 점수를 계산함."
   ]
  },
  {
   "cell_type": "code",
   "execution_count": null,
   "id": "c3e02a97-5650-4875-8615-c6e8b69adff9",
   "metadata": {},
   "outputs": [],
   "source": [
    "@exception_handler\n",
    "def ensemble_models(lstm_autoencoder_model, lstm_classifier_model, data_sequences, device):\n",
    "    logging.info(\"모델 앙상블 및 통합 진행 중...\")\n",
    "\n",
    "    lstm_autoencoder_model.eval()\n",
    "    lstm_classifier_model.eval()\n",
    "\n",
    "    with torch.no_grad():\n",
    "        inputs = data_sequences.to(device)\n",
    "        # Autoencoder 재구성 오차 계산\n",
    "        reconstructed = lstm_autoencoder_model(inputs)\n",
    "        ae_loss = nn.functional.mse_loss(reconstructed, inputs, reduction='none')\n",
    "        ae_loss = ae_loss.mean(dim=(1, 2)).cpu().numpy()\n",
    "\n",
    "        # Classifier 예측 결과\n",
    "        outputs = lstm_classifier_model(inputs)\n",
    "        predictions = torch.argmax(outputs, dim=1).cpu().numpy()\n",
    "\n",
    "    # 이상치 점수와 행동 분류 결과를 결합하여 위험 점수 계산\n",
    "    # 각 행동의 위험도에 따라 가중치를 부여할 수 있음\n",
    "    risk_socres = ae_loss  # 단순히 재구성 오차를 위험 점수로 사용\n",
    "\n",
    "    # 위험 점수에 따라 이상치 여부 판정\n",
    "    threshold = np.percentile(risk_scores, 95)\n",
    "    anomalies = risk_scores > threshold\n",
    "\n",
    "    logging.info(f\"탐지된 이상치 수: {np.sum(anomalies)}\")\n",
    "\n",
    "    # 결과 저장\n",
    "    df_results = pd.DataFrame({\n",
    "        'Risk_Score': risk_scores,\n",
    "        'Anomaly': anomalies,\n",
    "        'Predicted_Action': predictions\n",
    "    })\n",
    "\n",
    "    return df_results, threshold\n",
    "\n",
    "df_results, threshold = ensemble_models(lstm_autoencoder_model,\n",
    "                                        lstm_classifier_model,\n",
    "                                        data_sequences,\n",
    "                                        device)"
   ]
  },
  {
   "cell_type": "markdown",
   "id": "52ba152a-5cab-4511-8a4a-f80a3bb55b98",
   "metadata": {},
   "source": [
    "## 10. 모델 평가 및 검증\n",
    "\n",
    "> 재구성 오차 분포를 시각화하고, 이상치 탐지 결과를 분석함"
   ]
  },
  {
   "cell_type": "code",
   "execution_count": null,
   "id": "8f3c189c-12b8-4ad0-bdea-e5da9db3a74d",
   "metadata": {},
   "outputs": [],
   "source": [
    "@exception_handler\n",
    "def evaluate_models(def_results, threshold):\n",
    "    logging.info(\"모델 평가 및 검증 진행 중...\")\n",
    "\n",
    "    # 재구성 오차 히스토그램\n",
    "    plt.figure(figsize=(10, 6))\n",
    "    sns.histplot(df_results['Risk_Score'], bins=50, kde=True, color='purple')\n",
    "    plt.axvline(threshold, color='red', linestyle='--', label='임계값')\n",
    "    plt.title('재구성 오차 분포 및 이상치 임계값')\n",
    "    plt.xlabel('Risk Score')\n",
    "    plt.ylabel('Frequency')\n",
    "    plt.legend()\n",
    "    plt.show()\n",
    "\n",
    "    # 이상치 데이터 확인\n",
    "    anomalies = df_results[df_results['Anomaly']]\n",
    "    logging.info(f\"이상치 데이터 샘플:\\n{anomalies.head()}\")\n",
    "\n",
    "evaluate_models(df_results, threshold)"
   ]
  },
  {
   "cell_type": "markdown",
   "id": "d46c09ac-cf12-4aee-b7a4-435e29099f26",
   "metadata": {},
   "source": [
    "## 11. 결론\n",
    "\n",
    "> `RiskPrediction_Dataset.csv` 데이터를 활용하여 작업자의 위험 예측 및 행동 파악을 위한 모델을 구현\n",
    "\n",
    "- **데이터 로드 및 전처리**: 데이터의 결측치를 처리하고, 필요한 특징을 추출하였습니다.\n",
    "- **특징 분석 및 엔지니어링**: 데이터의 특성을 분석하고, 새로운 특징을 생성하였습니다.\n",
    "- **모델 정의 및 학습**: LSTM Autoencoder를 활용한 이상치 탐지와 LSTM Classifier를 활용한 행동 인식 모델을 학습하였습니다.\n",
    "- __모델 앙상블 및 통합__: 두 모델의 결과를 결합하여 최종 위험 점수를 계산하였습니다.\n",
    "- __모델 평가 및 검증__: 재구성 오차 분포를 시각화하고, 이상치 탐지 결과를 분석하였습니다.\n",
    "- __로그 및 예외 처리__: logging 모듈과 예외 처리 데코레이터를 사용하여 코드의 진행 상황을 추적하고 에러를 처리하였습니다.\n",
    "- __시각화__: matplotlib과 seaborn을 사용하여 데이터와 모델의 결과를 시각화하였습니다."
   ]
  },
  {
   "cell_type": "code",
   "execution_count": null,
   "id": "733e6b83-52c7-45c9-b3b8-1eb21f3d7ed7",
   "metadata": {},
   "outputs": [],
   "source": []
  }
 ],
 "metadata": {
  "kernelspec": {
   "display_name": "ai",
   "language": "python",
   "name": "ai"
  },
  "language_info": {
   "codemirror_mode": {
    "name": "ipython",
    "version": 3
   },
   "file_extension": ".py",
   "mimetype": "text/x-python",
   "name": "python",
   "nbconvert_exporter": "python",
   "pygments_lexer": "ipython3",
   "version": "3.10.15"
  }
 },
 "nbformat": 4,
 "nbformat_minor": 5
}
