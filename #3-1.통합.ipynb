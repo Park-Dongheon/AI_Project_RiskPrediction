{
 "cells": [
  {
   "cell_type": "markdown",
   "id": "c24774d1-282e-4904-9226-cfe3309f5dff",
   "metadata": {},
   "source": [
    "### `VITALDATE`와 `CHECKTIME`이 같은 날짜와 시간대인 행만 남기고, `WORKDATE`(작업일자) 열을 생성"
   ]
  },
  {
   "cell_type": "code",
   "execution_count": 1,
   "id": "b1883826-0584-48c7-bf5f-8e487807ddaa",
   "metadata": {},
   "outputs": [],
   "source": [
    "import pandas as pd\n",
    "\n",
    "# CSV 파일 읽기\n",
    "df = pd.read_csv('Synchronized_All_Data.csv')\n",
    "\n",
    "# VITALDATE와 CHECKTIME을 datetime 형식으로 변환\n",
    "df['VITALDATE'] = pd.to_datetime(df['VITALDATE'])\n",
    "df['CHECKTIME'] = pd.to_datetime(df['CHECKTIME'])\n",
    "\n",
    "# 날짜 부분만 추출\n",
    "df['VITALDATE_DATE'] = df['VITALDATE'].dt.date\n",
    "df['CHECKTIME_DATE'] = df['CHECKTIME'].dt.date\n",
    "\n",
    "# VITALDATE와 CHECKTIME의 날짜가 같은 행만 필터링\n",
    "df_filtered = df[df['VITALDATE_DATE'] == df['CHECKTIME_DATE']].copy()\n",
    "\n",
    "# WORKDATE 열 생성 (작업일자)\n",
    "df_filtered['WORKDATE'] = df_filtered['VITALDATE_DATE']\n",
    "\n",
    "# 임시로 생성한 날짜 열 삭제\n",
    "df_filtered.drop(['VITALDATE_DATE', 'CHECKTIME_DATE'], axis=1, inplace=True)\n",
    "\n",
    "# 결과를 새로운 CSV 파일로 저장\n",
    "df_filtered.to_csv('RiskPrediction_Dataset.csv', index=False)"
   ]
  }
 ],
 "metadata": {
  "kernelspec": {
   "display_name": "ai",
   "language": "python",
   "name": "ai"
  },
  "language_info": {
   "codemirror_mode": {
    "name": "ipython",
    "version": 3
   },
   "file_extension": ".py",
   "mimetype": "text/x-python",
   "name": "python",
   "nbconvert_exporter": "python",
   "pygments_lexer": "ipython3",
   "version": "3.10.15"
  }
 },
 "nbformat": 4,
 "nbformat_minor": 5
}
