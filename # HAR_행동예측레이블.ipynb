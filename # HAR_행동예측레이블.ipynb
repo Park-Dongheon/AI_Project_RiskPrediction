{
 "cells": [
  {
   "cell_type": "markdown",
   "id": "056c138d-c3c5-40a7-8ec3-b1563a884750",
   "metadata": {},
   "source": [
    "# > 레이블이 있는 MHEALTH 데이터셋을 사용하여 행동 분류 모델을 PyTorch로 구현하고, 이 모델을 활용하여 레이블이 없는 RiskPrediction 데이터셋의 자이로스코프 데이터를 기반으로 행동 레이블을 예측   \n",
    "또한, 전체 코드를 함수화하여 재사용 가능하도록 구성하고, 데이터 분석 단계를 데이터셋 파악부터 차례대로 진행"
   ]
  },
  {
   "cell_type": "markdown",
   "id": "b39ca580-d9bc-4860-897c-cddb07ef4229",
   "metadata": {},
   "source": [
    "# 목차\n",
    "\n",
    "1. [환경 설정 및 라이브러리 설치](#1.-환경-설정-및-라이브러리-설치)\n",
    "2. [구성 파일 설정](#2.-구성-파일-설정)\n",
    "3. [데이터 로딩 및 전처리](#3.-데이터-로딩-및-전처리)\n",
    "4. [데이터 증강](#4.-데이터-증강)\n",
    "5. [레이블 인코딩](#5.-레이블-인코딩)\n",
    "6. [데이터셋 클래스 정의](#6.-데이터셋-클래스-정의)\n",
    "7. [모델 정의](#7.-모델-정의)\n",
    "    - 7.1 [Transformer 기반 모델](##7.1-Transformer-기반-모델)\n",
    "    - 7.2 [CNN 기반 특징 추출기 모델](##7.2-CNN-기반-특징-추출기-모델)\n",
    "8. [조기 종료 콜백 정의](#8.-조기-종료-콜백-정의)\n",
    "9. [학습 및 평가 함수](#9.-학습-및-평가-함수)\n",
    "10. [모델 해석 함수](#10.-모델-해석-함수)\n",
    "    - 10.1 [SHAP 해석 함수](##10.1-SHAP-해석-함수)\n",
    "    - 10.2 [LIME 해석 함수](##10.2-LIME-해석-함수)\n",
    "11. [하이퍼파라미터 튜닝](#11.-하이퍼파라미터-튜닝)\n",
    "12. [앙상블 모델 (스태킹, 배깅, 부스팅)](#12.-앙상블-모델-(스태킹,-배깅,-부스팅))\n",
    "13. [자동화 및 파이프라인 관리](#13.-자동화-및-파이프라인-관리)\n",
    "    - 13.1 [MLflow를 사용한 실험 추적](##13.1-MLflow를-사용한-실험-추적)\n",
    "    - 13.2 [DVC를 사용한 데이터 및 모델 버전 관리](##13.2-DVC를-사용한-데이터-및-모델-버전-관리)\n",
    "14. [배치 처리 및 실시간 예측](#14.-배치-처리-및-실시간-예측)\n",
    "15. [보안 및 프라이버시 고려](#15.-보안-및-프라이버시-고려)\n",
    "16. [결론 및 추가 팁](#16.-결론-및-추가-팁)"
   ]
  },
  {
   "cell_type": "markdown",
   "id": "f3045464-9b27-42ae-a091-7529a996b09d",
   "metadata": {},
   "source": [
    "---\n",
    "\n",
    "## 1. 환경 설정 및 라이브러리 설치\n",
    "\n",
    "[목차](#목차)"
   ]
  },
  {
   "cell_type": "code",
   "execution_count": 1,
   "id": "b1330fdc-48e3-4a55-b2e1-32ed800a06c2",
   "metadata": {},
   "outputs": [],
   "source": [
    "# 필요한 라이브러리 설치 (한 번만 실행)\n",
    "# !pip install numpy pandas torch scikit-learn matplotlib seaborn shap lime tqdm joblib optuna PyYAML mlflow dvc imbalanced-learn xgboost lightgbm transformers"
   ]
  },
  {
   "cell_type": "code",
   "execution_count": 5,
   "id": "4480607e-037b-49cd-86a2-43a157a03e56",
   "metadata": {},
   "outputs": [
    {
     "ename": "ModuleNotFoundError",
     "evalue": "No module named 'transformers'",
     "output_type": "error",
     "traceback": [
      "\u001b[1;31m---------------------------------------------------------------------------\u001b[0m",
      "\u001b[1;31mModuleNotFoundError\u001b[0m                       Traceback (most recent call last)",
      "Cell \u001b[1;32mIn[5], line 39\u001b[0m\n\u001b[0;32m     37\u001b[0m \u001b[38;5;28;01mimport\u001b[39;00m \u001b[38;5;21;01mxgboost\u001b[39;00m \u001b[38;5;28;01mas\u001b[39;00m \u001b[38;5;21;01mxgb\u001b[39;00m\n\u001b[0;32m     38\u001b[0m \u001b[38;5;28;01mimport\u001b[39;00m \u001b[38;5;21;01mlightgbm\u001b[39;00m \u001b[38;5;28;01mas\u001b[39;00m \u001b[38;5;21;01mlgb\u001b[39;00m\n\u001b[1;32m---> 39\u001b[0m \u001b[38;5;28;01mfrom\u001b[39;00m \u001b[38;5;21;01mtransformers\u001b[39;00m \u001b[38;5;28;01mimport\u001b[39;00m BertModel, BertTokenizer  \u001b[38;5;66;03m# Transformer 모델\u001b[39;00m\n\u001b[0;32m     41\u001b[0m \u001b[38;5;66;03m# 경고 무시\u001b[39;00m\n\u001b[0;32m     42\u001b[0m warnings\u001b[38;5;241m.\u001b[39mfilterwarnings(\u001b[38;5;124m'\u001b[39m\u001b[38;5;124mignore\u001b[39m\u001b[38;5;124m'\u001b[39m)\n",
      "\u001b[1;31mModuleNotFoundError\u001b[0m: No module named 'transformers'"
     ]
    }
   ],
   "source": [
    "# 라이브러리 임포트\n",
    "import os\n",
    "import numpy as np\n",
    "import pandas as pd\n",
    "import matplotlib.pyplot as plt\n",
    "import seaborn as sns\n",
    "\n",
    "import torch\n",
    "from torch import nn, optim\n",
    "from torch.utils.data import Dataset, DataLoader\n",
    "\n",
    "from sklearn.preprocessing import StandardScaler, LabelEncoder\n",
    "from sklearn.model_selection import StratifiedKFold, train_test_split\n",
    "from sklearn.metrics import accuracy_score, precision_score, recall_score, f1_score, confusion_matrix, classification_report\n",
    "from sklearn.ensemble import RandomForestClassifier, BaggingClassifier, GradientBoostingClassifier\n",
    "from sklearn.linear_model import LogisticRegression\n",
    "from sklearn.utils.class_weight import compute_class_weight\n",
    "from sklearn.base import BaseEstimator, ClassifierMixin, clone\n",
    "from sklearn.pipeline import Pipeline\n",
    "from sklearn.decomposition import PCA\n",
    "from sklearn.svm import SVC\n",
    "\n",
    "import warnings\n",
    "import shap\n",
    "from lime import lime_tabular\n",
    "from tqdm.auto import tqdm\n",
    "import logging\n",
    "import joblib\n",
    "import yaml\n",
    "import optuna\n",
    "import mlflow\n",
    "import dvc.api\n",
    "\n",
    "from imblearn.over_sampling import SMOTE\n",
    "from imblearn.under_sampling import RandomUnderSampler\n",
    "\n",
    "import xgboost as xgb\n",
    "import lightgbm as lgb\n",
    "from transformers import BertModel, BertTokenizer  # Transformer 모델\n",
    "\n",
    "# 경고 무시\n",
    "warnings.filterwarnings('ignore')\n",
    "\n",
    "# 로깅 설정\n",
    "logging.basicConfig(\n",
    "    filename='training.log',  # 로그 파일명\n",
    "    filemode='a',             # 추가 모드\n",
    "    format='%(asctime)s - %(levelname)s - %(message)s',  # 로그 포맷\n",
    "    level=logging.INFO        # 로그 레벨\n",
    ")\n",
    "logger = logging.getLogger(__name__)\n",
    "\n",
    "def log_and_print(message: str) -> None:\n",
    "    \"\"\"\n",
    "    메시지를 콘솔에 출력하고 로그 파일에 기록\n",
    "\n",
    "    Parameters:\n",
    "    - message (str): 출력 및 기록할 메시지\n",
    "    \"\"\"\n",
    "    print(message)\n",
    "    logger.info(message)\n",
    "\n",
    "# 디바이스 설정 (GPU 사용 가능 시 GPU 사용)\n",
    "DEVICE = torch.device('cuda' if torch.cuda.is_available() else 'cpu')\n",
    "log_and_print(f'Using device: {DEVICE}')"
   ]
  },
  {
   "cell_type": "code",
   "execution_count": null,
   "id": "d1890425-19f8-402b-80cb-8478e7a373d6",
   "metadata": {},
   "outputs": [],
   "source": [
    "!conda install conda-forge::transformers -y"
   ]
  },
  {
   "cell_type": "markdown",
   "id": "24156249-67a6-48c6-926f-6be73a8b5ec8",
   "metadata": {},
   "source": [
    "---\n",
    "\n",
    "## 2. 로깅 설정\n",
    "\n",
    "[목차](#목차)"
   ]
  },
  {
   "cell_type": "markdown",
   "id": "c989e61c-b58d-43f1-9430-da9e97e23b85",
   "metadata": {},
   "source": [
    "---\n",
    "\n",
    "## 3. 데이터 탐색적 분석 (EDA)\n",
    "\n",
    "[목차](#목차)"
   ]
  },
  {
   "cell_type": "markdown",
   "id": "fb88ebcc-8cbc-4b82-8e0f-50c148721f33",
   "metadata": {},
   "source": [
    "---\n",
    "\n",
    "## 4. 데이터 전처리 및 특성 공학\n",
    "\n",
    "[목차](#목차)"
   ]
  },
  {
   "cell_type": "markdown",
   "id": "7cd9575c-6f53-4c03-8f5d-e1068e2452b3",
   "metadata": {},
   "source": [
    "---\n",
    "\n",
    "## 5. 레이블 인코딩 및 디코딩\n",
    "\n",
    "[목차](#목차)"
   ]
  },
  {
   "cell_type": "markdown",
   "id": "50510d5a-d2ac-45d3-a745-255529378919",
   "metadata": {},
   "source": [
    "---\n",
    "\n",
    "## 6. 데이터셋 클래스 정의\n",
    "\n",
    "[목차](#목차)"
   ]
  },
  {
   "cell_type": "markdown",
   "id": "ca373dac-3208-4b55-a65f-588894a39dad",
   "metadata": {},
   "source": [
    "---\n",
    "\n",
    "## 7. 데이터 증강 함수 정의\n",
    "\n",
    "[목차](#목차)"
   ]
  },
  {
   "cell_type": "markdown",
   "id": "401149fc-600a-47f7-9846-49ebf8f7cefc",
   "metadata": {},
   "source": [
    "---\n",
    "\n",
    "## 8. 모델 정의\n",
    "[목차](#목차)\n",
    "\n",
    "### 8.1 Transformer 기반 시계열 모델"
   ]
  },
  {
   "cell_type": "markdown",
   "id": "4e8b8c20-0a89-42c2-8253-22540a787075",
   "metadata": {},
   "source": [
    "### 8.2 1D CNN 기반 특징 추출기"
   ]
  },
  {
   "cell_type": "markdown",
   "id": "e081a60f-b3e7-4034-b1d5-946fd8d27558",
   "metadata": {},
   "source": [
    "---\n",
    "\n",
    "## 9. 조기 종료 콜백 정의\n",
    "\n",
    "[목차](#목차)"
   ]
  },
  {
   "cell_type": "markdown",
   "id": "bb0cf4a3-db4e-4d7d-9a39-c40b44338dcf",
   "metadata": {},
   "source": [
    "---\n",
    "\n",
    "## 10. 모델 학습 및 평가 함수\n",
    "[목차](#목차)\n",
    "\n",
    "### 10.1 Transformer 모델 학습 함수"
   ]
  },
  {
   "cell_type": "markdown",
   "id": "bc045f49-f204-4dc6-9fc7-7144800fe7c6",
   "metadata": {},
   "source": [
    "### 10.2 1D CNN 모델 학습 함수"
   ]
  },
  {
   "cell_type": "markdown",
   "id": "db979fdd-5b08-4329-8bef-5ebdb0a25e50",
   "metadata": {},
   "source": [
    "### 10.3 특징 추출 함수"
   ]
  },
  {
   "cell_type": "markdown",
   "id": "60a16cbb-b07c-4251-b8f2-e21b3bfe724d",
   "metadata": {},
   "source": [
    "### 10.4 모델 해석 함수 (SHAP 및 LIME)"
   ]
  },
  {
   "cell_type": "markdown",
   "id": "abb1ae5b-3463-40bf-9787-1ba6335ec95d",
   "metadata": {},
   "source": [
    "---\n",
    "\n",
    "## 11. 앙상블 모델 정의 및 학습\n",
    "\n",
    "[목차](#목차)"
   ]
  },
  {
   "cell_type": "markdown",
   "id": "c8bce0a9-51ce-4a8d-9e98-0f7b65543312",
   "metadata": {},
   "source": [
    "---\n",
    "\n",
    "## 12. RiskPrediction 데이터셋 예측 및 결과 활용\n",
    "\n",
    "[목차](#목차)"
   ]
  },
  {
   "cell_type": "markdown",
   "id": "12f5b767-8589-4ae0-85ea-49d52300573d",
   "metadata": {},
   "source": [
    "---\n",
    "\n",
    "## 13. 전체 프로세스 실행 코드\n",
    "\n",
    "[목차](#목차)"
   ]
  },
  {
   "cell_type": "code",
   "execution_count": null,
   "id": "1b96d7de-c14c-433c-a150-7dcc22eeb874",
   "metadata": {},
   "outputs": [],
   "source": []
  }
 ],
 "metadata": {
  "kernelspec": {
   "display_name": "ai",
   "language": "python",
   "name": "ai"
  },
  "language_info": {
   "codemirror_mode": {
    "name": "ipython",
    "version": 3
   },
   "file_extension": ".py",
   "mimetype": "text/x-python",
   "name": "python",
   "nbconvert_exporter": "python",
   "pygments_lexer": "ipython3",
   "version": "3.10.15"
  }
 },
 "nbformat": 4,
 "nbformat_minor": 5
}
