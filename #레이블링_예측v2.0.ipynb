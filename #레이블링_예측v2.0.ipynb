{
 "cells": [
  {
   "cell_type": "markdown",
   "id": "386ba498-7e18-4e57-88c8-69a9c00e0c95",
   "metadata": {},
   "source": [
    "> **MHEALTH 데이터셋의 자이로스코프 데이터(레이블 있음)와 대용량의 MergeData.csv 데이터셋의 자이로스코프 데이터(레이블 없음)를 결합하여, 동일한 전처리를 거쳐 CNN-LSTM 모델을 학습하고, 이를 통해 MergeData.csv 데이터의 행동 레이블을 예측하여 추가**   \n",
    "> **하이퍼파라미터 튜닝을 통해 모델의 성능을 높이고, 예측 결과를 시각적으로 검증 및 평가**"
   ]
  },
  {
   "cell_type": "markdown",
   "id": "203fb6d8-8fce-4dfc-a623-6bd2124434c2",
   "metadata": {},
   "source": [
    "# 목차\n",
    "1. 필요한 라이브러리 임포트 및 설정\n",
    "2. 슬라이딩 윈도우 함수 정의\n",
    "3. 특성 추출 함수 정의\n",
    "4. 데이터 증강 함수 정의\n",
    "5 .MHEALTH 데이터 로드 및 전처리\n",
    "6. MergeData.csv 데이터 로드 및 전처리\n",
    "7. 레이블이 있는 데이터와 없는 데이터 결합\n",
    "8. 데이터셋 분할 및 시퀀스 생성\n",
    "9. 데이터셋 및 데이터로더 생성\n",
    "10. CNN-LSTM 모델 정의\n",
    "11. 하이퍼파라미터 튜닝\n",
    "12. 모델 학습\n",
    "13. 모델 평가 및 시각화\n",
    "14. MergeData.csv 데이터에 대한 예측 및 레이블 추가\n",
    "15. 마무리"
   ]
  },
  {
   "cell_type": "markdown",
   "id": "673ac35d-ac3a-41bd-86cf-dd9d3857a2c3",
   "metadata": {},
   "source": [
    "# 1. 필요한 라이브러리 임포트 및 설정"
   ]
  },
  {
   "cell_type": "code",
   "execution_count": 1,
   "id": "4b76c7b2-fe0c-444c-b97b-3600fb665777",
   "metadata": {},
   "outputs": [
    {
     "name": "stdout",
     "output_type": "stream",
     "text": [
      "사용 중인 디바이스: cuda\n",
      "GPU 이름: NVIDIA GeForce GTX 1650\n"
     ]
    }
   ],
   "source": [
    "import os\n",
    "import glob\n",
    "import numpy as np\n",
    "import pandas as pd\n",
    "from scipy import stats\n",
    "from sklearn.preprocessing import StandardScaler\n",
    "from sklearn.model_selection import train_test_split\n",
    "from sklearn.metrics import confusion_matrix, classification_report\n",
    "import joblib\n",
    "import matplotlib.pyplot as plt\n",
    "import seaborn as sns\n",
    "from tqdm import tqdm  # 진행 상황 표시\n",
    "\n",
    "import torch\n",
    "import torch.nn as nn\n",
    "from torch.utils.data import Dataset, DataLoader\n",
    "\n",
    "import pywt\n",
    "import optuna  # 하이퍼파라미터 튜닝을 위한 라이브러리\n",
    "\n",
    "# GPU 설정\n",
    "device = torch.device('cuda' if torch.cuda.is_available() else 'cpu')\n",
    "print(f\"사용 중인 디바이스: {device}\")\n",
    "if device.type == 'cuda':\n",
    "    print(f\"GPU 이름: {torch.cuda.get_device_name(0)}\")"
   ]
  },
  {
   "cell_type": "markdown",
   "id": "0db3fa2a-8522-46c6-8c96-6db35812383c",
   "metadata": {},
   "source": [
    "- 필요한 라이브러리를 모두 임포트합니다.\n",
    "- GPU가 사용 가능한 경우 GPU를 사용하도록 설정합니다.\n",
    "- tqdm 라이브러리를 사용하여 진행 상황을 표시합니다."
   ]
  },
  {
   "cell_type": "markdown",
   "id": "69676653-b950-4a7f-97bd-93eedb7ec64c",
   "metadata": {},
   "source": [
    "# 2. 슬라이딩 윈도우 함수 정의"
   ]
  },
  {
   "cell_type": "code",
   "execution_count": 2,
   "id": "79e2decc-da6f-494c-ae05-3afc8f1d6061",
   "metadata": {},
   "outputs": [],
   "source": [
    "def sliding_window(data, window_size, step_size):\n",
    "    \"\"\"\n",
    "    슬라이딩 윈도우를 적용하여 데이터를 윈도우로 분할합니다.\n",
    "\n",
    "    Parameters:\n",
    "        data (numpy array): 입력 데이터 (samples, channels).\n",
    "        window_size (int): 윈도우 크기.\n",
    "        step_size (int): 윈도우 이동 크기.\n",
    "\n",
    "    Returns:\n",
    "        numpy array: 윈도우로 분할된 데이터 (num_windows, window_size, channels).\n",
    "    \"\"\"\n",
    "    \n",
    "    num_samples = data.shape[0]\n",
    "    \n",
    "    if num_samples < window_size:\n",
    "        return np.array([])  # 빈 배열 반환\n",
    "        \n",
    "    windows = []\n",
    "    \n",
    "    for start in range(0, num_samples - window_size + 1, step_size):\n",
    "        end = start + window_size\n",
    "        window = data[start:end, :]\n",
    "        windows.append(window)\n",
    "        \n",
    "    return np.array(windows)"
   ]
  },
  {
   "cell_type": "markdown",
   "id": "ee184baa-4315-403d-a890-9a282bee1a1d",
   "metadata": {},
   "source": [
    "# 3. 특성 추출 함수 정의"
   ]
  },
  {
   "cell_type": "code",
   "execution_count": 3,
   "id": "9df5955a-7c79-496d-a605-6a78fc822be5",
   "metadata": {},
   "outputs": [],
   "source": [
    "def extract_features(windows):\n",
    "    \"\"\"\n",
    "    각 윈도우에 대해 특성을 추출합니다.\n",
    "\n",
    "    Parameters:\n",
    "        windows (numpy array): 윈도우로 분할된 데이터 (num_windows, window_size, channels).\n",
    "\n",
    "    Returns:\n",
    "        numpy array: 추출된 특성 (num_windows, num_features).\n",
    "    \"\"\"\n",
    "    \n",
    "    features = []\n",
    "    \n",
    "    for window in windows:\n",
    "        window_features = []\n",
    "        \n",
    "        if window.ndim == 1:\n",
    "            window = window[:, np.newaxis]\n",
    "            \n",
    "        num_channels = window.shape[1]\n",
    "        \n",
    "        for channel in range(num_channels):\n",
    "            signal = window[:, channel]\n",
    "            \n",
    "            # 기본 통계량\n",
    "            mean = np.mean(signal)\n",
    "            std = np.std(signal)\n",
    "            skewness = stats.skew(signal)\n",
    "            kurtosis = stats.kurtosis(signal)\n",
    "            rms = np.sqrt(np.mean(signal**2))\n",
    "            \n",
    "            # FFT\n",
    "            fft_coeffs = np.fft.rfft(signal)\n",
    "            fft_mean = np.mean(np.abs(fft_coeffs))\n",
    "            fft_std = np.std(np.abs(fft_coeffs))\n",
    "            \n",
    "            # 웨이블릿 변환 후 에너지\n",
    "            coeffs = pywt.wavedec(signal, 'db1', level=3)\n",
    "            energy = sum([np.sum(c**2) for c in coeffs])\n",
    "            \n",
    "            # 특성 벡터에 추가\n",
    "            window_features.extend([mean, std, skewness, kurtosis, rms, fft_mean, fft_std, energy])\n",
    "            \n",
    "        features.append(window_features)\n",
    "        \n",
    "    return np.array(features)"
   ]
  },
  {
   "cell_type": "markdown",
   "id": "98ca5d88-4cee-4a51-92dd-41043480e00e",
   "metadata": {},
   "source": [
    "# 4. 데이터 증강 함수 정의"
   ]
  },
  {
   "cell_type": "code",
   "execution_count": 4,
   "id": "e81bbd02-16f2-425b-be18-3bd845be8449",
   "metadata": {},
   "outputs": [],
   "source": [
    "def augment_data(X, y):\n",
    "    \"\"\"\n",
    "    데이터 증강을 위해 가우시안 노이즈를 추가합니다.\n",
    "\n",
    "    Parameters:\n",
    "        X (numpy array): 입력 데이터.\n",
    "        y (numpy array): 레이블.\n",
    "\n",
    "    Returns:\n",
    "        tuple: 증강된 데이터와 레이블.\n",
    "    \"\"\"\n",
    "    \n",
    "    noise = np.random.normal(0, 0.01, X.shape)\n",
    "    X_augmented = X + noise\n",
    "    y_augmented = y.copy()\n",
    "    \n",
    "    return X_augmented, y_augmented"
   ]
  },
  {
   "cell_type": "markdown",
   "id": "b6737d3e-f9ec-4661-8c9e-c9aed5e02717",
   "metadata": {},
   "source": [
    "# 5. MHEALTH 데이터 로드 및 전처리\n",
    "***\n",
    "## 5.1 데이터 로드"
   ]
  },
  {
   "cell_type": "code",
   "execution_count": 5,
   "id": "308018c9-3aed-4be0-b049-09189ac63f3c",
   "metadata": {
    "scrolled": true
   },
   "outputs": [
    {
     "name": "stdout",
     "output_type": "stream",
     "text": [
      "파일명: C:/AI/data/MHEALTHDATASET\\mHealth_subject1.log\n",
      "data.shape: (161280, 24)\n",
      "right_arm_gyro.shape: (161280, 3)\n",
      "labels.shape: (161280,)\n",
      "파일명: C:/AI/data/MHEALTHDATASET\\mHealth_subject10.log\n",
      "data.shape: (98304, 24)\n",
      "right_arm_gyro.shape: (98304, 3)\n",
      "labels.shape: (98304,)\n",
      "파일명: C:/AI/data/MHEALTHDATASET\\mHealth_subject2.log\n",
      "data.shape: (130561, 24)\n",
      "right_arm_gyro.shape: (130561, 3)\n",
      "labels.shape: (130561,)\n",
      "파일명: C:/AI/data/MHEALTHDATASET\\mHealth_subject3.log\n",
      "data.shape: (122112, 24)\n",
      "right_arm_gyro.shape: (122112, 3)\n",
      "labels.shape: (122112,)\n",
      "파일명: C:/AI/data/MHEALTHDATASET\\mHealth_subject4.log\n",
      "data.shape: (116736, 24)\n",
      "right_arm_gyro.shape: (116736, 3)\n",
      "labels.shape: (116736,)\n",
      "파일명: C:/AI/data/MHEALTHDATASET\\mHealth_subject5.log\n",
      "data.shape: (119808, 24)\n",
      "right_arm_gyro.shape: (119808, 3)\n",
      "labels.shape: (119808,)\n",
      "파일명: C:/AI/data/MHEALTHDATASET\\mHealth_subject6.log\n",
      "data.shape: (98304, 24)\n",
      "right_arm_gyro.shape: (98304, 3)\n",
      "labels.shape: (98304,)\n",
      "파일명: C:/AI/data/MHEALTHDATASET\\mHealth_subject7.log\n",
      "data.shape: (104448, 24)\n",
      "right_arm_gyro.shape: (104448, 3)\n",
      "labels.shape: (104448,)\n",
      "파일명: C:/AI/data/MHEALTHDATASET\\mHealth_subject8.log\n",
      "data.shape: (129024, 24)\n",
      "right_arm_gyro.shape: (129024, 3)\n",
      "labels.shape: (129024,)\n",
      "파일명: C:/AI/data/MHEALTHDATASET\\mHealth_subject9.log\n",
      "data.shape: (135168, 24)\n",
      "right_arm_gyro.shape: (135168, 3)\n",
      "labels.shape: (135168,)\n"
     ]
    }
   ],
   "source": [
    "# 데이터 파일 경로 설정 (실제 데이터 경로로 수정하세요)\n",
    "data_files = glob.glob('C:/AI/data/MHEALTHDATASET/mHealth_subject*.log')\n",
    "\n",
    "# 데이터와 레이블을 저장할 리스트 초기화\n",
    "X_list = []\n",
    "y_list = []\n",
    "\n",
    "for file in data_files:\n",
    "    data = pd.read_csv(file, sep='\\s+', header=None)\n",
    "    print(f\"파일명: {file}\")\n",
    "    print(f\"data.shape: {data.shape}\")\n",
    "    \n",
    "    # 데이터의 열 수가 24개인지 확인\n",
    "    if data.shape[1] != 24:\n",
    "        print(f\"데이터의 열 수가 24가 아닙니다. 파일을 확인하세요.\")\n",
    "        continue  # 다음 파일로 넘어감\n",
    "\n",
    "    # 우측 하완 센서의 자이로스코프 데이터 추출 (열 18~20)\n",
    "    right_arm_gyro = data.iloc[:, 17:20].values   # 열 18~20 (Python 인덱스는 0부터 시작)\n",
    "    print(f\"right_arm_gyro.shape: {right_arm_gyro.shape}\")\n",
    "\n",
    "    # 레이블 추출 (열 24)\n",
    "    labels = data.iloc[:, 23].values\n",
    "    print(f\"labels.shape: {labels.shape}\")\n",
    "\n",
    "    # null 클래스(레이블 0)는 제외\n",
    "    valid_indices = labels != 0\n",
    "    sensor_data = right_arm_gyro[valid_indices, :]  # 모든 열 선택\n",
    "    labels = labels[valid_indices]\n",
    "\n",
    "    # 데이터와 레이블 저장\n",
    "    X_list.append(sensor_data)\n",
    "    y_list.append(labels)"
   ]
  },
  {
   "cell_type": "markdown",
   "id": "5e2bc7fb-8a82-4e12-a179-e1617eed3d2b",
   "metadata": {},
   "source": [
    "- MHEALTH 데이터셋에서 자이로스코프 데이터와 레이블을 추출합니다.\n",
    "- null 클래스(레이블 0)는 제외합니다."
   ]
  },
  {
   "cell_type": "markdown",
   "id": "b3f588ca-5963-4065-af38-d00d647bcdc5",
   "metadata": {},
   "source": [
    "## 5.2 데이터 결합"
   ]
  },
  {
   "cell_type": "code",
   "execution_count": 6,
   "id": "5270c50c-95dc-44ba-9011-d948761dd5a5",
   "metadata": {
    "scrolled": true
   },
   "outputs": [
    {
     "name": "stdout",
     "output_type": "stream",
     "text": [
      "전체 MHEALTH 데이터 크기: (343195, 3)\n",
      "전체 MHEALTH 레이블 크기: (343195,)\n"
     ]
    }
   ],
   "source": [
    "# 리스트를 배열로 변환\n",
    "X_raw_mhealth = np.vstack(X_list)\n",
    "y_raw_mhealth = np.hstack(y_list)\n",
    "\n",
    "# 레이블을 0부터 시작하도록 조정\n",
    "y_raw_mhealth = y_raw_mhealth - 1  # 레이블이 1부터 시작하므로 0부터 시작하도록 조정\n",
    "\n",
    "print(\"전체 MHEALTH 데이터 크기:\", X_raw_mhealth.shape)\n",
    "print(\"전체 MHEALTH 레이블 크기:\", y_raw_mhealth.shape)"
   ]
  },
  {
   "cell_type": "markdown",
   "id": "8e7582ec-3f85-40f1-ab80-9a0aff68ff03",
   "metadata": {},
   "source": [
    "## 5.3 슬라이딩 윈도우 적용 및 특성 추출"
   ]
  },
  {
   "cell_type": "code",
   "execution_count": 7,
   "id": "6f609c69-3fcd-4771-8187-7563454b7056",
   "metadata": {},
   "outputs": [
    {
     "name": "stdout",
     "output_type": "stream",
     "text": [
      "MHEALTH 데이터 특성 크기: (5361, 24)\n",
      "MHEALTH 레이블 크기: (5361,)\n"
     ]
    }
   ],
   "source": [
    "# 윈도우 설정\n",
    "window_size = 128  # 샘플 수에 따라 조정 가능\n",
    "step_size = 64\n",
    "\n",
    "# 슬라이딩 윈도우 적용\n",
    "windows = sliding_window(X_raw_mhealth, window_size, step_size)\n",
    "labels = sliding_window(y_raw_mhealth.reshape(-1, 1), window_size, step_size)\n",
    "\n",
    "# 각 윈도우의 레이블은 가장 많이 등장하는 레이블로 설정\n",
    "window_labels = [np.bincount(label_window.flatten().astype(int)).argmax() for label_window in labels]\n",
    "\n",
    "# 특성 추출\n",
    "X_features_mhealth = extract_features(windows)\n",
    "y_labels_mhealth = np.array(window_labels)\n",
    "\n",
    "print(\"MHEALTH 데이터 특성 크기:\", X_features_mhealth.shape)\n",
    "print(\"MHEALTH 레이블 크기:\", y_labels_mhealth.shape)"
   ]
  },
  {
   "cell_type": "markdown",
   "id": "d528500a-5ab7-477e-b8a1-6888d355e19d",
   "metadata": {},
   "source": [
    "# 6. MergeData.csv 데이터 로드 및 전처리\n",
    "***\n",
    "## 6.1 데이터 로드 및 슬라이딩 윈도우 적용"
   ]
  },
  {
   "cell_type": "code",
   "execution_count": 8,
   "id": "4eb33b56-7bbb-4fdb-a2ab-4fb64fc134dc",
   "metadata": {},
   "outputs": [
    {
     "name": "stderr",
     "output_type": "stream",
     "text": [
      "MergeData 로드 중: 2760it [3:42:18,  4.83s/it]\n"
     ]
    }
   ],
   "source": [
    "# MergeData.csv 파일 경로 설정 (실제 경로로 수정하세요)\n",
    "merge_data_path = 'C:/AI/data/MergeData.csv'\n",
    "\n",
    "# 청크 크기 설정 (메모리 용량에 따라 조정)\n",
    "chunk_size = 100000  # 한 번에 읽어올 행의 수\n",
    "\n",
    "# 데이터와 레이블을 저장할 리스트 초기화\n",
    "X_list_merge = []\n",
    "\n",
    "# 컬럼 이름 지정\n",
    "column_names = ['VitalDate',\n",
    "                'WorkDate',\n",
    "                'UserCode',\n",
    "                'HeartBeat',\n",
    "                'Temperature',\n",
    "                'OutsideTemperature',\n",
    "                'Latitude',\n",
    "                'Longitude',\n",
    "                'X',\n",
    "                'Y',\n",
    "                'Z']\n",
    "\n",
    "# 데이터 로드 및 전처리\n",
    "reader = pd.read_csv(merge_data_path,\n",
    "                     chunksize=chunk_size,\n",
    "                     names=column_names,\n",
    "                     header=0)\n",
    "\n",
    "for chunk in tqdm(reader, desc='MergeData 로드 중'):\n",
    "    # 자이로스코프 데이터 추출 (X, Y, Z 컬럼)\n",
    "    gyro_data = chunk[['X', 'Y', 'Z']].values\n",
    "\n",
    "    # 슬라이딩 윈도우 적용\n",
    "    windows = sliding_window(gyro_data,\n",
    "                             window_size=128,\n",
    "                             step_size=64)\n",
    "    \n",
    "    if windows.size == 0:\n",
    "        continue\n",
    "\n",
    "    # 특성 추출\n",
    "    features = extract_features(windows)\n",
    "\n",
    "    # 데이터 저장\n",
    "    X_list_merge.append(features)"
   ]
  },
  {
   "cell_type": "markdown",
   "id": "8718f726-f7ce-49ed-ba0f-07996b65b91f",
   "metadata": {},
   "source": [
    "- MergeData.csv를 청크 단위로 읽어옵니다.\n",
    "- 자이로스코프 데이터(X, Y, Z 컬럼)를 추출합니다.\n",
    "- 슬라이딩 윈도우와 특성 추출을 적용합니다.\n",
    "- 레이블이 없으므로 레이블은 저장하지 않습니다."
   ]
  },
  {
   "cell_type": "markdown",
   "id": "b0ad7c73-a471-403c-95d1-454ffb6b1899",
   "metadata": {},
   "source": [
    "## 6.2 데이터 결합"
   ]
  },
  {
   "cell_type": "code",
   "execution_count": 9,
   "id": "83dc26a6-19fb-47f0-ae28-6c28720c57af",
   "metadata": {},
   "outputs": [
    {
     "name": "stdout",
     "output_type": "stream",
     "text": [
      "전체 MergeData 특성 데이터 크기: (4308055, 24)\n"
     ]
    }
   ],
   "source": [
    "# 리스트를 배열로 변환\n",
    "X_raw_merge = np.vstack(X_list_merge)\n",
    "\n",
    "print(\"전체 MergeData 특성 데이터 크기:\", X_raw_merge.shape)"
   ]
  },
  {
   "cell_type": "markdown",
   "id": "e8fc4b2d-0787-4626-aee4-788f37de3476",
   "metadata": {},
   "source": [
    "# 7. 레이블이 있는 데이터와 없는 데이터 결합\n",
    "***\n",
    "## 7.1 데이터 결합"
   ]
  },
  {
   "cell_type": "code",
   "execution_count": 10,
   "id": "8056946c-0803-422a-a5d9-c6a7ead932fc",
   "metadata": {},
   "outputs": [
    {
     "name": "stdout",
     "output_type": "stream",
     "text": [
      "결합된 데이터 크기: (4313416, 24)\n",
      "결합된 레이블 크기: (4313416,)\n"
     ]
    }
   ],
   "source": [
    "# MHEALTH 데이터의 레이블은 그대로 유지\n",
    "X_total = np.vstack((X_features_mhealth, X_raw_merge))\n",
    "# 레이블은 MHEALTH 데이터의 레이블과 MergeData의 레이블(없는 부분)을 결합\n",
    "y_total = np.hstack((y_labels_mhealth, np.full(X_raw_merge.shape[0], -1)))  # 레이블이 없는 부분은 -1로 표시\n",
    "\n",
    "print(\"결합된 데이터 크기:\", X_total.shape)\n",
    "print(\"결합된 레이블 크기:\", y_total.shape)"
   ]
  },
  {
   "cell_type": "markdown",
   "id": "f61df976-f507-4130-831c-9ff31b88073f",
   "metadata": {},
   "source": [
    "## 7.2 데이터 증강 및 스케일링"
   ]
  },
  {
   "cell_type": "code",
   "execution_count": 11,
   "id": "a720201f-1d58-436f-9397-c4b631892496",
   "metadata": {},
   "outputs": [
    {
     "name": "stdout",
     "output_type": "stream",
     "text": [
      "결합된 데이터 크기: (4318777, 24)\n",
      "결합된 레이블 크기: (4318777,)\n"
     ]
    },
    {
     "data": {
      "text/plain": [
       "['scaler_total.pkl']"
      ]
     },
     "execution_count": 11,
     "metadata": {},
     "output_type": "execute_result"
    }
   ],
   "source": [
    "# MHEALTH 데이터에 대해서만 데이터 증강 적용\n",
    "X_augmented, y_augmented = augment_data(X_features_mhealth, y_labels_mhealth)\n",
    "\n",
    "# 원본 MHEALTH 데이터와 증강된 데이터 결합\n",
    "X_mhealth_combined = np.vstack((X_features_mhealth, X_augmented))\n",
    "y_mhealth_combined = np.hstack((y_labels_mhealth, y_augmented))\n",
    "\n",
    "# 전체 데이터 결합 (MHEALTH 데이터와 MergeData 데이터)\n",
    "X_total = np.vstack((X_mhealth_combined, X_raw_merge))\n",
    "y_total = np.hstack((y_mhealth_combined, np.full(X_raw_merge.shape[0], -1)))  # 레이블이 없는 부분은 -1로 표시\n",
    "\n",
    "print(\"결합된 데이터 크기:\", X_total.shape)\n",
    "print(\"결합된 레이블 크기:\", y_total.shape)\n",
    "\n",
    "# 스케일링\n",
    "scaler = StandardScaler()\n",
    "X_scaled = scaler.fit_transform(X_total)\n",
    "\n",
    "# 스케일러 저장\n",
    "joblib.dump(scaler, 'scaler_total.pkl')"
   ]
  },
  {
   "cell_type": "markdown",
   "id": "e862d885-0e0f-4517-8ec5-f058a649e7a0",
   "metadata": {},
   "source": [
    "- 레이블이 있는 MHEALTH 데이터에 대해서만 데이터 증강을 수행합니다.\n",
    "- 전체 데이터를 스케일링합니다"
   ]
  },
  {
   "cell_type": "markdown",
   "id": "2e5cc158-af62-4956-9c67-83dc996a2079",
   "metadata": {},
   "source": [
    "# 8. 데이터셋 분할 및 시퀀스 생성\n",
    "***\n",
    "## 8.1 레이블이 있는 데이터와 없는 데이터 분리"
   ]
  },
  {
   "cell_type": "code",
   "execution_count": 12,
   "id": "a95eabdc-b2bf-486a-9de7-f728405fe5d6",
   "metadata": {},
   "outputs": [],
   "source": [
    "# 레이블이 있는 데이터만 분리\n",
    "X_labeled = X_scaled[y_total != -1]\n",
    "y_labeled = y_total[y_total != -1].astype(int)\n",
    "\n",
    "# 레이블이 없는 데이터만 분리\n",
    "X_unlabeled = X_scaled[y_total == -1]"
   ]
  },
  {
   "cell_type": "markdown",
   "id": "d87b3437-2d58-42eb-8475-67834cdb2e16",
   "metadata": {},
   "source": [
    "## 8.2 학습 및 검증 데이터 분할"
   ]
  },
  {
   "cell_type": "code",
   "execution_count": 13,
   "id": "2898a41e-a10c-4295-9b40-e15aebf99057",
   "metadata": {},
   "outputs": [
    {
     "name": "stdout",
     "output_type": "stream",
     "text": [
      "학습 데이터 크기: (8577, 24)\n",
      "검증 데이터 크기: (2145, 24)\n"
     ]
    }
   ],
   "source": [
    "# 레이블이 있는 데이터셋 분할\n",
    "X_train, X_val, y_train, y_val = train_test_split(\n",
    "    X_labeled,\n",
    "    y_labeled,\n",
    "    test_size=0.2,\n",
    "    random_state=42,\n",
    "    stratify=y_labeled\n",
    ")\n",
    "\n",
    "print(\"학습 데이터 크기:\", X_train.shape)\n",
    "print(\"검증 데이터 크기:\", X_val.shape)"
   ]
  },
  {
   "cell_type": "markdown",
   "id": "27e4ee6f-f974-4883-bc52-3ee60b74aedf",
   "metadata": {},
   "source": [
    "## 8.3 시퀀스 생성"
   ]
  },
  {
   "cell_type": "code",
   "execution_count": 14,
   "id": "aef9aba0-ec2c-4dad-83ba-edf4e45321b9",
   "metadata": {},
   "outputs": [],
   "source": [
    "# 시퀀스 길이 설정\n",
    "seq_len = 5\n",
    "\n",
    "def create_sequences(features, labels, seq_len):\n",
    "    sequences = []\n",
    "    sequence_labels = []\n",
    "    \n",
    "    for i in range(len(features) - seq_len + 1):\n",
    "        seq = features[i:i+seq_len]\n",
    "        label = labels[i + seq_len - 1]\n",
    "        sequences.append(seq)\n",
    "        sequence_labels.append(label)\n",
    "        \n",
    "    return np.array(sequences), np.array(sequence_labels)\n",
    "\n",
    "# 학습 및 검증 데이터에 시퀀스 생성\n",
    "X_train_seq, y_train_seq = create_sequences(X_train,\n",
    "                                            y_train,\n",
    "                                            seq_len)\n",
    "X_val_seq, y_val_seq = create_sequences(X_val,\n",
    "                                        y_val,\n",
    "                                        seq_len)"
   ]
  },
  {
   "cell_type": "markdown",
   "id": "e06c63ae-b400-49d0-9743-bb4aca30dc21",
   "metadata": {},
   "source": [
    "# 9. 데이터셋 및 데이터로더 생성"
   ]
  },
  {
   "cell_type": "code",
   "execution_count": 15,
   "id": "41464527-1ffe-4087-919b-0ee367646f23",
   "metadata": {},
   "outputs": [],
   "source": [
    "class ActivityDataset(Dataset):\n",
    "    def __init__(self, X, y):\n",
    "        self.X = torch.tensor(X, dtype=torch.float32)\n",
    "        self.y = torch.tensor(y, dtype=torch.long)\n",
    "        \n",
    "    def __len__(self):\n",
    "        return len(self.y)\n",
    "        \n",
    "    def __getitem__(self, idx):\n",
    "        return self.X[idx], self.y[idx]\n",
    "\n",
    "# 데이터셋 생성\n",
    "train_dataset = ActivityDataset(X_train_seq,\n",
    "                                y_train_seq)\n",
    "val_dataset = ActivityDataset(X_val_seq,\n",
    "                              y_val_seq)\n",
    "\n",
    "# 데이터로더 생성\n",
    "batch_size = 64\n",
    "train_loader = DataLoader(train_dataset,\n",
    "                          batch_size=batch_size,\n",
    "                          shuffle=True)\n",
    "val_loader = DataLoader(val_dataset,\n",
    "                        batch_size=batch_size,\n",
    "                        shuffle=False)"
   ]
  },
  {
   "cell_type": "markdown",
   "id": "d8abd03e-c9db-4fe0-bb4c-f64e7a56d0cb",
   "metadata": {},
   "source": [
    "# 10. CNN-LSTM 모델 정의"
   ]
  },
  {
   "cell_type": "code",
   "execution_count": 16,
   "id": "56957cb7-4a68-485e-a11e-5104d114cbf0",
   "metadata": {},
   "outputs": [
    {
     "name": "stdout",
     "output_type": "stream",
     "text": [
      "CNNLSTMModel(\n",
      "  (conv1): Conv1d(24, 64, kernel_size=(3,), stride=(1,), padding=(1,))\n",
      "  (relu): ReLU()\n",
      "  (pool): MaxPool1d(kernel_size=2, stride=2, padding=0, dilation=1, ceil_mode=False)\n",
      "  (lstm): LSTM(64, 128, num_layers=3, batch_first=True, dropout=0.5)\n",
      "  (fc): Linear(in_features=128, out_features=12, bias=True)\n",
      ")\n"
     ]
    }
   ],
   "source": [
    "class CNNLSTMModel(nn.Module):\n",
    "    def __init__(self, num_features, num_classes, dropout):\n",
    "        super(CNNLSTMModel, self).__init__()\n",
    "        self.conv1 = nn.Conv1d(in_channels=num_features,\n",
    "                               out_channels=64,\n",
    "                               kernel_size=3,\n",
    "                               padding=1)\n",
    "        self.relu = nn.ReLU()\n",
    "        self.pool = nn.MaxPool1d(kernel_size=2)\n",
    "        self.lstm = nn.LSTM(input_size=64,\n",
    "                            hidden_size=128,\n",
    "                            num_layers=3,\n",
    "                            batch_first=True,\n",
    "                            dropout=dropout)\n",
    "        self.fc = nn.Linear(128, num_classes)\n",
    "        \n",
    "    def forward(self, x):\n",
    "        x = x.permute(0, 2, 1)  # (batch_size, num_features, seq_len)\n",
    "        x = self.conv1(x)\n",
    "        x = self.relu(x)\n",
    "        x = self.pool(x)  # (batch_size, 64, seq_len/2)\n",
    "        x = x.permute(0, 2, 1)  # (batch_size, seq_len/2, 64)\n",
    "        x, _ = self.lstm(x)\n",
    "        x = x[:, -1, :]  # 마지막 타임스텝의 출력\n",
    "        x = self.fc(x)\n",
    "        return x\n",
    "\n",
    "# 모델 초기화\n",
    "num_features = X_train_seq.shape[2]\n",
    "num_classes = len(np.unique(y_train_seq))\n",
    "dropout = 0.5\n",
    "\n",
    "model = CNNLSTMModel(num_features, \n",
    "                     num_classes,\n",
    "                     dropout)\n",
    "model.to(device)\n",
    "\n",
    "print(model)"
   ]
  },
  {
   "cell_type": "markdown",
   "id": "3d65ca85-4615-4d11-8b7c-a7320c64374e",
   "metadata": {},
   "source": [
    "# 11. 하이퍼파라미터 튜닝\n",
    "***\n",
    "## 11.1 Objective 함수 정의"
   ]
  },
  {
   "cell_type": "code",
   "execution_count": 17,
   "id": "e2cb3518-d9ea-412b-b37a-e62f6b6d0287",
   "metadata": {},
   "outputs": [],
   "source": [
    "def objective(trial):\n",
    "    # 하이퍼파라미터 제안\n",
    "    dropout = trial.suggest_float('dropout', 0.2, 0.5)\n",
    "    learning_rate = trial.suggest_loguniform('learning_rate', 1e-4, 1e-2)\n",
    "\n",
    "    # 모델 초기화\n",
    "    model = CNNLSTMModel(num_features, num_classes, dropout)\n",
    "    model.to(device)\n",
    "\n",
    "    criterion = nn.CrossEntropyLoss()\n",
    "    optimizer = torch.optim.Adam(model.parameters(), lr=learning_rate)\n",
    "\n",
    "    num_epochs = 100\n",
    "    best_val_loss = float('inf')\n",
    "    patience = 3\n",
    "    counter = 0\n",
    "\n",
    "    for epoch in range(num_epochs):\n",
    "        # 학습 모드\n",
    "        model.train()\n",
    "        \n",
    "        for X_batch, y_batch in train_loader:\n",
    "            X_batch = X_batch.to(device)\n",
    "            y_batch = y_batch.to(device)\n",
    "            optimizer.zero_grad()\n",
    "            outputs = model(X_batch)\n",
    "            loss = criterion(outputs, y_batch)\n",
    "            loss.backward()\n",
    "            optimizer.step()\n",
    "\n",
    "        # 검증 모드\n",
    "        model.eval()\n",
    "        total_loss = 0\n",
    "        \n",
    "        with torch.no_grad():\n",
    "            for X_batch, y_batch in val_loader:\n",
    "                X_batch = X_batch.to(device)\n",
    "                y_batch = y_batch.to(device)\n",
    "                outputs = model(X_batch)\n",
    "                loss = criterion(outputs, y_batch)\n",
    "                total_loss += loss.item() * X_batch.size(0)\n",
    "                \n",
    "        val_loss = total_loss / len(val_dataset)\n",
    "\n",
    "        # # 조기 종료\n",
    "        # if val_loss < best_val_loss:\n",
    "        #     best_val_loss = val_loss\n",
    "        #     counter = 0\n",
    "        # else:\n",
    "        #     counter += 1\n",
    "        #     if counter >= patience:\n",
    "        #         break\n",
    "\n",
    "    return best_val_loss  # 검증 손실을 최소화"
   ]
  },
  {
   "cell_type": "markdown",
   "id": "c7ff015d-203b-4d5d-9edb-cddbbef50611",
   "metadata": {},
   "source": [
    "## 11.2 스터디 객체 생성 및 최적화 수행"
   ]
  },
  {
   "cell_type": "code",
   "execution_count": 18,
   "id": "5e814d35-77f3-4edd-919b-5fd8a2282f46",
   "metadata": {
    "scrolled": true
   },
   "outputs": [
    {
     "name": "stderr",
     "output_type": "stream",
     "text": [
      "[I 2024-10-15 17:45:34,579] A new study created in memory with name: no-name-18967064-9e51-4428-bd98-91ce167d8e96\n",
      "C:\\Users\\user\\AppData\\Local\\Temp\\ipykernel_3900\\3446860662.py:4: FutureWarning: suggest_loguniform has been deprecated in v3.0.0. This feature will be removed in v6.0.0. See https://github.com/optuna/optuna/releases/tag/v3.0.0. Use suggest_float(..., log=True) instead.\n",
      "  learning_rate = trial.suggest_loguniform('learning_rate', 1e-4, 1e-2)\n",
      "[I 2024-10-15 17:45:43,121] Trial 0 finished with value: inf and parameters: {'dropout': 0.2566132332709609, 'learning_rate': 0.008321513932119287}. Best is trial 0 with value: inf.\n",
      "C:\\Users\\user\\AppData\\Local\\Temp\\ipykernel_3900\\3446860662.py:4: FutureWarning: suggest_loguniform has been deprecated in v3.0.0. This feature will be removed in v6.0.0. See https://github.com/optuna/optuna/releases/tag/v3.0.0. Use suggest_float(..., log=True) instead.\n",
      "  learning_rate = trial.suggest_loguniform('learning_rate', 1e-4, 1e-2)\n",
      "[I 2024-10-15 17:45:49,946] Trial 1 finished with value: inf and parameters: {'dropout': 0.47720122603548604, 'learning_rate': 0.008006640883183196}. Best is trial 0 with value: inf.\n",
      "[I 2024-10-15 17:45:56,713] Trial 2 finished with value: inf and parameters: {'dropout': 0.28046579023180324, 'learning_rate': 0.0005147634495504857}. Best is trial 0 with value: inf.\n",
      "[I 2024-10-15 17:46:03,507] Trial 3 finished with value: inf and parameters: {'dropout': 0.3366644915203365, 'learning_rate': 0.0009493526261255657}. Best is trial 0 with value: inf.\n",
      "[I 2024-10-15 17:46:10,216] Trial 4 finished with value: inf and parameters: {'dropout': 0.4444913250565399, 'learning_rate': 0.0054018339645050305}. Best is trial 0 with value: inf.\n",
      "[I 2024-10-15 17:46:17,027] Trial 5 finished with value: inf and parameters: {'dropout': 0.41141819224380316, 'learning_rate': 0.003077518816275622}. Best is trial 0 with value: inf.\n",
      "[I 2024-10-15 17:46:23,853] Trial 6 finished with value: inf and parameters: {'dropout': 0.42337493544454907, 'learning_rate': 0.0003143975337657561}. Best is trial 0 with value: inf.\n",
      "[I 2024-10-15 17:46:30,675] Trial 7 finished with value: inf and parameters: {'dropout': 0.22303323916989903, 'learning_rate': 0.0007464046308676028}. Best is trial 0 with value: inf.\n",
      "[I 2024-10-15 17:46:37,393] Trial 8 finished with value: inf and parameters: {'dropout': 0.37008912813028527, 'learning_rate': 0.0002007789331130672}. Best is trial 0 with value: inf.\n",
      "[I 2024-10-15 17:46:44,218] Trial 9 finished with value: inf and parameters: {'dropout': 0.29014107653318166, 'learning_rate': 0.004794454581432474}. Best is trial 0 with value: inf.\n",
      "[I 2024-10-15 17:46:51,043] Trial 10 finished with value: inf and parameters: {'dropout': 0.20918002977279973, 'learning_rate': 0.0021715276695634077}. Best is trial 0 with value: inf.\n",
      "[I 2024-10-15 17:46:57,771] Trial 11 finished with value: inf and parameters: {'dropout': 0.30412820887208425, 'learning_rate': 0.008456141466965163}. Best is trial 0 with value: inf.\n",
      "[I 2024-10-15 17:47:04,572] Trial 12 finished with value: inf and parameters: {'dropout': 0.47353684401897106, 'learning_rate': 0.0020148671200470084}. Best is trial 0 with value: inf.\n",
      "[I 2024-10-15 17:47:11,340] Trial 13 finished with value: inf and parameters: {'dropout': 0.3690410021002802, 'learning_rate': 0.008806534261798499}. Best is trial 0 with value: inf.\n",
      "[I 2024-10-15 17:47:18,077] Trial 14 finished with value: inf and parameters: {'dropout': 0.495695794725094, 'learning_rate': 0.00010335939837709485}. Best is trial 0 with value: inf.\n",
      "[I 2024-10-15 17:47:24,907] Trial 15 finished with value: inf and parameters: {'dropout': 0.2503798766800973, 'learning_rate': 0.003897119175707771}. Best is trial 0 with value: inf.\n",
      "[I 2024-10-15 17:47:31,715] Trial 16 finished with value: inf and parameters: {'dropout': 0.3314112052068198, 'learning_rate': 0.002011433930354666}. Best is trial 0 with value: inf.\n",
      "[I 2024-10-15 17:47:38,518] Trial 17 finished with value: inf and parameters: {'dropout': 0.2569061308517411, 'learning_rate': 0.009388916351511793}. Best is trial 0 with value: inf.\n",
      "[I 2024-10-15 17:47:45,239] Trial 18 finished with value: inf and parameters: {'dropout': 0.3870075639670121, 'learning_rate': 0.001452498370626754}. Best is trial 0 with value: inf.\n",
      "[I 2024-10-15 17:47:52,058] Trial 19 finished with value: inf and parameters: {'dropout': 0.4575153223179308, 'learning_rate': 0.005865287534937152}. Best is trial 0 with value: inf.\n"
     ]
    },
    {
     "name": "stdout",
     "output_type": "stream",
     "text": [
      "Best hyperparameters:  {'dropout': 0.2566132332709609, 'learning_rate': 0.008321513932119287}\n"
     ]
    }
   ],
   "source": [
    "study = optuna.create_study(direction='minimize')\n",
    "study.optimize(objective, n_trials=20)\n",
    "\n",
    "# 최적의 하이퍼파라미터 출력\n",
    "print(\"Best hyperparameters: \", study.best_params)"
   ]
  },
  {
   "cell_type": "markdown",
   "id": "61829e76-16b7-42d5-9df8-8f549353d750",
   "metadata": {},
   "source": [
    "# 12. 모델 학습"
   ]
  },
  {
   "cell_type": "code",
   "execution_count": 19,
   "id": "71b649ce-9c92-4ec8-a2f5-7371201e0f1a",
   "metadata": {
    "scrolled": true
   },
   "outputs": [
    {
     "name": "stdout",
     "output_type": "stream",
     "text": [
      "Epoch 1: 검증 손실이 개선되어 모델을 저장했습니다.\n",
      "Epoch [1/50], Train Loss: 2.2493, Train Acc: 16.67%, Val Loss: 2.0269, Val Acc: 24.52%\n",
      "Epoch [2/50], Train Loss: 2.0298, Train Acc: 24.66%, Val Loss: 2.0720, Val Acc: 22.56%\n",
      "Epoch 3: 검증 손실이 개선되어 모델을 저장했습니다.\n",
      "Epoch [3/50], Train Loss: 1.9159, Train Acc: 28.74%, Val Loss: 1.7581, Val Acc: 35.92%\n",
      "Epoch 4: 검증 손실이 개선되어 모델을 저장했습니다.\n",
      "Epoch [4/50], Train Loss: 1.7769, Train Acc: 34.62%, Val Loss: 1.7137, Val Acc: 36.85%\n",
      "Epoch 5: 검증 손실이 개선되어 모델을 저장했습니다.\n",
      "Epoch [5/50], Train Loss: 1.6796, Train Acc: 39.10%, Val Loss: 1.6128, Val Acc: 40.45%\n",
      "Epoch 6: 검증 손실이 개선되어 모델을 저장했습니다.\n",
      "Epoch [6/50], Train Loss: 1.5829, Train Acc: 42.62%, Val Loss: 1.5228, Val Acc: 45.07%\n",
      "Epoch 7: 검증 손실이 개선되어 모델을 저장했습니다.\n",
      "Epoch [7/50], Train Loss: 1.5361, Train Acc: 43.95%, Val Loss: 1.4803, Val Acc: 46.57%\n",
      "Epoch 8: 검증 손실이 개선되어 모델을 저장했습니다.\n",
      "Epoch [8/50], Train Loss: 1.4961, Train Acc: 45.28%, Val Loss: 1.4470, Val Acc: 47.59%\n",
      "Epoch 9: 검증 손실이 개선되어 모델을 저장했습니다.\n",
      "Epoch [9/50], Train Loss: 1.4423, Train Acc: 48.24%, Val Loss: 1.4145, Val Acc: 48.53%\n",
      "Epoch 10: 검증 손실이 개선되어 모델을 저장했습니다.\n",
      "Epoch [10/50], Train Loss: 1.4179, Train Acc: 47.79%, Val Loss: 1.3815, Val Acc: 50.07%\n",
      "Epoch 11: 검증 손실이 개선되어 모델을 저장했습니다.\n",
      "Epoch [11/50], Train Loss: 1.3838, Train Acc: 49.49%, Val Loss: 1.3791, Val Acc: 50.16%\n",
      "Epoch 12: 검증 손실이 개선되어 모델을 저장했습니다.\n",
      "Epoch [12/50], Train Loss: 1.3586, Train Acc: 49.69%, Val Loss: 1.3173, Val Acc: 51.66%\n",
      "Epoch [13/50], Train Loss: 1.3125, Train Acc: 51.84%, Val Loss: 1.3837, Val Acc: 50.12%\n",
      "Epoch [14/50], Train Loss: 1.3327, Train Acc: 51.20%, Val Loss: 1.3461, Val Acc: 52.59%\n",
      "Epoch [15/50], Train Loss: 1.2801, Train Acc: 53.06%, Val Loss: 1.3224, Val Acc: 51.61%\n",
      "Epoch 16: 검증 손실이 개선되어 모델을 저장했습니다.\n",
      "Epoch [16/50], Train Loss: 1.2689, Train Acc: 52.77%, Val Loss: 1.2811, Val Acc: 54.60%\n",
      "Epoch 17: 검증 손실이 개선되어 모델을 저장했습니다.\n",
      "Epoch [17/50], Train Loss: 1.2521, Train Acc: 54.61%, Val Loss: 1.2141, Val Acc: 56.33%\n",
      "Epoch [18/50], Train Loss: 1.2133, Train Acc: 55.16%, Val Loss: 1.3540, Val Acc: 49.51%\n",
      "Epoch [19/50], Train Loss: 1.2182, Train Acc: 55.43%, Val Loss: 1.2608, Val Acc: 55.35%\n",
      "Epoch 20: 검증 손실이 개선되어 모델을 저장했습니다.\n",
      "Epoch [20/50], Train Loss: 1.1724, Train Acc: 56.54%, Val Loss: 1.1980, Val Acc: 56.61%\n",
      "Epoch [21/50], Train Loss: 1.1733, Train Acc: 57.19%, Val Loss: 1.2523, Val Acc: 55.53%\n",
      "Epoch [22/50], Train Loss: 1.1683, Train Acc: 57.35%, Val Loss: 1.2671, Val Acc: 56.00%\n",
      "Epoch [23/50], Train Loss: 1.1516, Train Acc: 58.11%, Val Loss: 1.2675, Val Acc: 54.09%\n",
      "Epoch [24/50], Train Loss: 1.1111, Train Acc: 59.50%, Val Loss: 1.2026, Val Acc: 57.26%\n",
      "Epoch [25/50], Train Loss: 1.1016, Train Acc: 59.78%, Val Loss: 1.1992, Val Acc: 57.40%\n",
      "Epoch 26: 검증 손실이 개선되어 모델을 저장했습니다.\n",
      "Epoch [26/50], Train Loss: 1.0958, Train Acc: 59.79%, Val Loss: 1.1489, Val Acc: 58.76%\n",
      "Epoch [27/50], Train Loss: 1.0701, Train Acc: 60.74%, Val Loss: 1.1870, Val Acc: 59.04%\n",
      "Epoch [28/50], Train Loss: 1.0954, Train Acc: 59.91%, Val Loss: 1.2159, Val Acc: 56.80%\n",
      "Epoch [29/50], Train Loss: 1.0674, Train Acc: 61.06%, Val Loss: 1.2206, Val Acc: 56.24%\n",
      "Epoch [30/50], Train Loss: 1.1057, Train Acc: 59.55%, Val Loss: 1.1823, Val Acc: 58.10%\n",
      "Epoch [31/50], Train Loss: 1.0287, Train Acc: 62.38%, Val Loss: 1.2330, Val Acc: 57.40%\n",
      "Epoch [32/50], Train Loss: 1.0182, Train Acc: 62.34%, Val Loss: 1.1830, Val Acc: 58.43%\n",
      "Epoch [33/50], Train Loss: 1.0400, Train Acc: 62.10%, Val Loss: 1.1933, Val Acc: 57.92%\n",
      "Epoch [34/50], Train Loss: 1.0320, Train Acc: 62.57%, Val Loss: 1.1579, Val Acc: 59.18%\n",
      "Epoch [35/50], Train Loss: 0.9911, Train Acc: 63.73%, Val Loss: 1.1863, Val Acc: 60.11%\n",
      "Epoch 36: 검증 손실이 개선되어 모델을 저장했습니다.\n",
      "Epoch [36/50], Train Loss: 0.9924, Train Acc: 64.00%, Val Loss: 1.1322, Val Acc: 59.97%\n",
      "Epoch 37: 검증 손실이 개선되어 모델을 저장했습니다.\n",
      "Epoch [37/50], Train Loss: 1.0139, Train Acc: 62.88%, Val Loss: 1.1195, Val Acc: 60.67%\n",
      "Epoch [38/50], Train Loss: 0.9604, Train Acc: 64.88%, Val Loss: 1.1386, Val Acc: 60.11%\n",
      "Epoch [39/50], Train Loss: 0.9953, Train Acc: 63.71%, Val Loss: 1.1607, Val Acc: 58.80%\n",
      "Epoch [40/50], Train Loss: 0.9643, Train Acc: 64.88%, Val Loss: 1.1328, Val Acc: 60.35%\n",
      "Epoch [41/50], Train Loss: 0.9323, Train Acc: 66.00%, Val Loss: 1.2167, Val Acc: 59.13%\n",
      "Epoch [42/50], Train Loss: 1.0101, Train Acc: 63.55%, Val Loss: 1.1677, Val Acc: 59.41%\n",
      "Epoch [43/50], Train Loss: 0.9489, Train Acc: 65.01%, Val Loss: 1.1675, Val Acc: 60.49%\n",
      "Epoch [44/50], Train Loss: 0.9290, Train Acc: 65.79%, Val Loss: 1.1782, Val Acc: 59.27%\n",
      "Epoch 45: 검증 손실이 개선되어 모델을 저장했습니다.\n",
      "Epoch [45/50], Train Loss: 0.9064, Train Acc: 66.69%, Val Loss: 1.1095, Val Acc: 62.63%\n",
      "Epoch [46/50], Train Loss: 0.9100, Train Acc: 66.38%, Val Loss: 1.1702, Val Acc: 58.57%\n",
      "Epoch [47/50], Train Loss: 0.9355, Train Acc: 65.90%, Val Loss: 1.2120, Val Acc: 58.29%\n",
      "Epoch [48/50], Train Loss: 0.9111, Train Acc: 66.76%, Val Loss: 1.2067, Val Acc: 59.65%\n",
      "Epoch [49/50], Train Loss: 0.9030, Train Acc: 67.26%, Val Loss: 1.2295, Val Acc: 58.52%\n",
      "Epoch [50/50], Train Loss: 0.9098, Train Acc: 66.92%, Val Loss: 1.2093, Val Acc: 59.36%\n"
     ]
    }
   ],
   "source": [
    "# 최적의 하이퍼파라미터로 모델 초기화\n",
    "best_dropout = study.best_params['dropout']\n",
    "best_learning_rate = study.best_params['learning_rate']\n",
    "\n",
    "model = CNNLSTMModel(num_features,\n",
    "                     num_classes,\n",
    "                     best_dropout)\n",
    "model.to(device)\n",
    "\n",
    "criterion = nn.CrossEntropyLoss()\n",
    "optimizer = torch.optim.Adam(model.parameters(), lr=best_learning_rate)\n",
    "\n",
    "num_epochs = 200\n",
    "patience = 5\n",
    "best_val_loss = float('inf')\n",
    "counter = 0\n",
    "\n",
    "for epoch in range(num_epochs):\n",
    "    # 학습 모드\n",
    "    model.train()\n",
    "    total_loss = 0\n",
    "    total_correct = 0\n",
    "    \n",
    "    for X_batch, y_batch in train_loader:\n",
    "        X_batch = X_batch.to(device)\n",
    "        y_batch = y_batch.to(device)\n",
    "        \n",
    "        optimizer.zero_grad()\n",
    "        outputs = model(X_batch)\n",
    "        loss = criterion(outputs, y_batch)\n",
    "        loss.backward()\n",
    "        optimizer.step()\n",
    "        \n",
    "        total_loss += loss.item() * X_batch.size(0)\n",
    "        _, preds = torch.max(outputs, 1)\n",
    "        total_correct += (preds == y_batch).sum().item()\n",
    "        \n",
    "    train_loss = total_loss / len(train_dataset)\n",
    "    train_acc = total_correct / len(train_dataset)\n",
    "\n",
    "    # 검증 모드\n",
    "    model.eval()\n",
    "    total_loss = 0\n",
    "    total_correct = 0\n",
    "    \n",
    "    with torch.no_grad():\n",
    "        for X_batch, y_batch in val_loader:\n",
    "            X_batch = X_batch.to(device)\n",
    "            y_batch = y_batch.to(device)\n",
    "            \n",
    "            outputs = model(X_batch)\n",
    "            loss = criterion(outputs, y_batch)\n",
    "            \n",
    "            total_loss += loss.item() * X_batch.size(0)\n",
    "            _, preds = torch.max(outputs, 1)\n",
    "            total_correct += (preds == y_batch).sum().item()\n",
    "            \n",
    "    val_loss = total_loss / len(val_dataset)\n",
    "    val_acc = total_correct / len(val_dataset)\n",
    "\n",
    "    # 검증 손실이 개선되었는지 확인하고 모델 저장\n",
    "    if val_loss < best_val_loss:\n",
    "        best_val_loss = val_loss\n",
    "        torch.save(model.state_dict(), 'best_model.pth')\n",
    "        counter = 0\n",
    "        print(f\"Epoch {epoch+1}: 검증 손실이 개선되어 모델을 저장했습니다.\")\n",
    "    # else:\n",
    "    #     counter += 1\n",
    "    #     if counter >= patience:\n",
    "    #         print(f\"조기 종료 조건에 도달하여 학습을 종료합니다.\")\n",
    "    #         break\n",
    "\n",
    "    # 에포크 결과 출력\n",
    "    print(f\"Epoch [{epoch+1}/{num_epochs}], \"\n",
    "          f\"Train Loss: {train_loss:.4f}, Train Acc: {train_acc*100:.2f}%, \"\n",
    "          f\"Val Loss: {val_loss:.4f}, Val Acc: {val_acc*100:.2f}%\")"
   ]
  },
  {
   "cell_type": "markdown",
   "id": "b7dae5ae-5b42-4499-890b-4854f3625ede",
   "metadata": {},
   "source": [
    "# 13. 모델 평가 및 시각화"
   ]
  },
  {
   "cell_type": "code",
   "execution_count": 20,
   "id": "063b9aaf-4da3-49e5-a6d8-23a9ff8e8fec",
   "metadata": {
    "scrolled": true
   },
   "outputs": [
    {
     "name": "stderr",
     "output_type": "stream",
     "text": [
      "C:\\Users\\user\\AppData\\Local\\Temp\\ipykernel_3900\\920811453.py:2: FutureWarning: You are using `torch.load` with `weights_only=False` (the current default value), which uses the default pickle module implicitly. It is possible to construct malicious pickle data which will execute arbitrary code during unpickling (See https://github.com/pytorch/pytorch/blob/main/SECURITY.md#untrusted-models for more details). In a future release, the default value for `weights_only` will be flipped to `True`. This limits the functions that could be executed during unpickling. Arbitrary objects will no longer be allowed to be loaded via this mode unless they are explicitly allowlisted by the user via `torch.serialization.add_safe_globals`. We recommend you start setting `weights_only=True` for any use case where you don't have full control of the loaded file. Please open an issue on GitHub for any issues related to this experimental feature.\n",
      "  model.load_state_dict(torch.load('best_model.pth'))\n",
      "C:\\Users\\user\\anaconda3\\envs\\ai\\lib\\site-packages\\IPython\\core\\pylabtools.py:170: UserWarning: Glyph 49892 (\\N{HANGUL SYLLABLE SIL}) missing from font(s) DejaVu Sans.\n",
      "  fig.canvas.print_figure(bytes_io, **kw)\n",
      "C:\\Users\\user\\anaconda3\\envs\\ai\\lib\\site-packages\\IPython\\core\\pylabtools.py:170: UserWarning: Glyph 51228 (\\N{HANGUL SYLLABLE JE}) missing from font(s) DejaVu Sans.\n",
      "  fig.canvas.print_figure(bytes_io, **kw)\n",
      "C:\\Users\\user\\anaconda3\\envs\\ai\\lib\\site-packages\\IPython\\core\\pylabtools.py:170: UserWarning: Glyph 47112 (\\N{HANGUL SYLLABLE RE}) missing from font(s) DejaVu Sans.\n",
      "  fig.canvas.print_figure(bytes_io, **kw)\n",
      "C:\\Users\\user\\anaconda3\\envs\\ai\\lib\\site-packages\\IPython\\core\\pylabtools.py:170: UserWarning: Glyph 51060 (\\N{HANGUL SYLLABLE I}) missing from font(s) DejaVu Sans.\n",
      "  fig.canvas.print_figure(bytes_io, **kw)\n",
      "C:\\Users\\user\\anaconda3\\envs\\ai\\lib\\site-packages\\IPython\\core\\pylabtools.py:170: UserWarning: Glyph 48660 (\\N{HANGUL SYLLABLE BEUL}) missing from font(s) DejaVu Sans.\n",
      "  fig.canvas.print_figure(bytes_io, **kw)\n",
      "C:\\Users\\user\\anaconda3\\envs\\ai\\lib\\site-packages\\IPython\\core\\pylabtools.py:170: UserWarning: Glyph 54844 (\\N{HANGUL SYLLABLE HON}) missing from font(s) DejaVu Sans.\n",
      "  fig.canvas.print_figure(bytes_io, **kw)\n",
      "C:\\Users\\user\\anaconda3\\envs\\ai\\lib\\site-packages\\IPython\\core\\pylabtools.py:170: UserWarning: Glyph 46041 (\\N{HANGUL SYLLABLE DONG}) missing from font(s) DejaVu Sans.\n",
      "  fig.canvas.print_figure(bytes_io, **kw)\n",
      "C:\\Users\\user\\anaconda3\\envs\\ai\\lib\\site-packages\\IPython\\core\\pylabtools.py:170: UserWarning: Glyph 54665 (\\N{HANGUL SYLLABLE HAENG}) missing from font(s) DejaVu Sans.\n",
      "  fig.canvas.print_figure(bytes_io, **kw)\n",
      "C:\\Users\\user\\anaconda3\\envs\\ai\\lib\\site-packages\\IPython\\core\\pylabtools.py:170: UserWarning: Glyph 47148 (\\N{HANGUL SYLLABLE RYEOL}) missing from font(s) DejaVu Sans.\n",
      "  fig.canvas.print_figure(bytes_io, **kw)\n",
      "C:\\Users\\user\\anaconda3\\envs\\ai\\lib\\site-packages\\IPython\\core\\pylabtools.py:170: UserWarning: Glyph 50696 (\\N{HANGUL SYLLABLE YE}) missing from font(s) DejaVu Sans.\n",
      "  fig.canvas.print_figure(bytes_io, **kw)\n",
      "C:\\Users\\user\\anaconda3\\envs\\ai\\lib\\site-packages\\IPython\\core\\pylabtools.py:170: UserWarning: Glyph 52769 (\\N{HANGUL SYLLABLE CEUG}) missing from font(s) DejaVu Sans.\n",
      "  fig.canvas.print_figure(bytes_io, **kw)\n"
     ]
    },
    {
     "data": {
      "image/png": "[encoded data removed]",
      "text/plain": [
       "<Figure size 1200x1000 with 2 Axes>"
      ]
     },
     "metadata": {},
     "output_type": "display_data"
    },
    {
     "name": "stdout",
     "output_type": "stream",
     "text": [
      "분류 보고서:\n",
      "                           precision    recall  f1-score   support\n",
      "\n",
      "           Standing still       0.50      0.54      0.52       192\n",
      "     Sitting and relaxing       0.71      0.68      0.69       192\n",
      "               Lying down       0.92      0.96      0.94       192\n",
      "                  Walking       0.62      0.55      0.58       192\n",
      "          Climbing stairs       0.46      0.19      0.27       192\n",
      "      Waist bends forward       0.36      0.60      0.45       176\n",
      "Frontal elevation of arms       0.80      0.92      0.86       183\n",
      "Knees bending (crouching)       0.34      0.32      0.33       182\n",
      "                  Cycling       0.78      0.87      0.82       192\n",
      "                  Jogging       0.65      0.71      0.68       192\n",
      "                  Running       0.75      0.76      0.75       192\n",
      "        Jump front & back       0.00      0.00      0.00        64\n",
      "\n",
      "                 accuracy                           0.63      2141\n",
      "                macro avg       0.58      0.59      0.58      2141\n",
      "             weighted avg       0.61      0.63      0.61      2141\n",
      "\n"
     ]
    }
   ],
   "source": [
    "# 저장된 모델 로드\n",
    "model.load_state_dict(torch.load('best_model.pth'))\n",
    "model.eval()\n",
    "\n",
    "all_preds = []\n",
    "all_labels = []\n",
    "\n",
    "with torch.no_grad():\n",
    "    for X_batch, y_batch in val_loader:\n",
    "        X_batch = X_batch.to(device)\n",
    "        y_batch = y_batch.to(device)\n",
    "        \n",
    "        outputs = model(X_batch)\n",
    "        _, preds = torch.max(outputs, 1)\n",
    "        \n",
    "        all_preds.extend(preds.cpu().numpy())\n",
    "        all_labels.extend(y_batch.cpu().numpy())\n",
    "\n",
    "# 혼동 행렬 계산\n",
    "cm = confusion_matrix(all_labels, all_preds)\n",
    "\n",
    "# 클래스 이름 정의 (레이블 인덱스와 매칭)\n",
    "class_names = [\n",
    "    'Standing still',          # 레이블 0\n",
    "    'Sitting and relaxing',    # 레이블 1\n",
    "    'Lying down',              # 레이블 2\n",
    "    'Walking',                 # 레이블 3\n",
    "    'Climbing stairs',         # 레이블 4\n",
    "    'Waist bends forward',     # 레이블 5\n",
    "    'Frontal elevation of arms', # 레이블 6\n",
    "    'Knees bending (crouching)', # 레이블 7\n",
    "    'Cycling',                 # 레이블 8\n",
    "    'Jogging',                 # 레이블 9\n",
    "    'Running',                 # 레이블 10\n",
    "    'Jump front & back'        # 레이블 11\n",
    "]\n",
    "\n",
    "# 혼동 행렬 시각화\n",
    "plt.figure(figsize=(12, 10))\n",
    "sns.heatmap(cm, annot=True, fmt='d', cmap='Blues',\n",
    "            xticklabels=class_names, yticklabels=class_names)\n",
    "plt.ylabel('실제 레이블')\n",
    "plt.xlabel('예측 레이블')\n",
    "plt.title('혼동 행렬')\n",
    "plt.show()\n",
    "\n",
    "# 분류 보고서 출력\n",
    "print(\"분류 보고서:\")\n",
    "print(classification_report(all_labels, all_preds, target_names=class_names))"
   ]
  },
  {
   "cell_type": "markdown",
   "id": "2f663f1d-f318-4b1d-9461-090f0a2b4957",
   "metadata": {},
   "source": [
    "# 14. MergeData.csv 데이터에 대한 예측 및 레이블 추가\n",
    "***\n",
    "## 14.1 MergeData.csv 데이터 예측"
   ]
  },
  {
   "cell_type": "code",
   "execution_count": 21,
   "id": "4c0e0d2a-828f-48f9-a8e8-33f2a6daea79",
   "metadata": {},
   "outputs": [
    {
     "name": "stderr",
     "output_type": "stream",
     "text": [
      "MergeData 예측 중: 2760it [4:12:34,  5.49s/it]\n"
     ]
    }
   ],
   "source": [
    "# 저장된 스케일러 로드\n",
    "scaler = joblib.load('scaler_total.pkl')\n",
    "\n",
    "# 예측 결과를 저장할 리스트\n",
    "predictions = []\n",
    "indices = []\n",
    "\n",
    "# MergeData.csv를 청크 단위로 로드하여 예측 수행\n",
    "reader = pd.read_csv(merge_data_path,\n",
    "                     chunksize=chunk_size,\n",
    "                     names=column_names,\n",
    "                     header=0)\n",
    "\n",
    "for chunk in tqdm(reader, desc='MergeData 예측 중'):\n",
    "    gyro_data = chunk[['X', 'Y', 'Z']].values\n",
    "    \n",
    "    if gyro_data.shape[0] < 128:\n",
    "        continue\n",
    "\n",
    "    windows = sliding_window(gyro_data,\n",
    "                             window_size=128,\n",
    "                             step_size=64)\n",
    "    \n",
    "    if windows.size == 0:\n",
    "        continue\n",
    "\n",
    "    # 특성 추출\n",
    "    features = extract_features(windows)\n",
    "\n",
    "    # 스케일링 적용\n",
    "    features_scaled = scaler.transform(features)\n",
    "\n",
    "    # 시퀀스 생성\n",
    "    def create_sequences_unlabeled(features, seq_len):\n",
    "        sequences = []\n",
    "        \n",
    "        for i in range(len(features) - seq_len + 1):\n",
    "            seq = features[i:i+seq_len]\n",
    "            sequences.append(seq)\n",
    "            \n",
    "        return np.array(sequences)\n",
    "\n",
    "    X_seq = create_sequences_unlabeled(features_scaled, seq_len)\n",
    "\n",
    "    if X_seq.size == 0:\n",
    "        continue\n",
    "\n",
    "    X_tensor = torch.tensor(X_seq, dtype=torch.float32).to(device)\n",
    "\n",
    "    # 모델 예측\n",
    "    with torch.no_grad():\n",
    "        outputs = model(X_tensor)\n",
    "        _, preds = torch.max(outputs, 1)\n",
    "        predictions.extend(preds.cpu().numpy())\n",
    "\n",
    "        # 각 시퀀스의 시작 인덱스를 저장\n",
    "        window_starts = np.arange(0, len(features_scaled) - seq_len + 1)\n",
    "        indices.extend(chunk.index.values[window_starts])"
   ]
  },
  {
   "cell_type": "markdown",
   "id": "2abe73ed-2695-44af-b730-ac8c34a7251f",
   "metadata": {},
   "source": [
    "## 14.2 예측된 레이블 추가 및 저장"
   ]
  },
  {
   "cell_type": "code",
   "execution_count": 22,
   "id": "2919e8ee-1354-47d8-a908-ffeefd3713f6",
   "metadata": {},
   "outputs": [
    {
     "name": "stdout",
     "output_type": "stream",
     "text": [
      "예측 결과를 'MergeData_Prediction.csv'에 저장했습니다.\n"
     ]
    }
   ],
   "source": [
    "# 예측된 활동 이름으로 변환\n",
    "predicted_activities = [class_names[pred] for pred in predictions]\n",
    "\n",
    "# 결과를 DataFrame으로 저장\n",
    "result_df = pd.DataFrame({\n",
    "    'Index': indices,\n",
    "    'Predicted Activity': predicted_activities\n",
    "})\n",
    "\n",
    "# 원본 MergeData에서 해당 인덱스의 데이터 추출\n",
    "merge_data_full = pd.read_csv(merge_data_path,\n",
    "                              names=column_names,\n",
    "                              header=0)\n",
    "predicted_data = merge_data_full.iloc[indices].copy()\n",
    "predicted_data['Activity'] = predicted_activities\n",
    "\n",
    "# 결과를 CSV 파일로 저장\n",
    "predicted_data.to_csv('MergeData_Prediction.csv', index=False)\n",
    "print(\"예측 결과를 'MergeData_Prediction.csv'에 저장했습니다.\")"
   ]
  },
  {
   "cell_type": "markdown",
   "id": "07dc0c1f-a562-483c-871e-92cd2818e6b0",
   "metadata": {},
   "source": [
    "## 14.3 예측 결과 시각화"
   ]
  },
  {
   "cell_type": "code",
   "execution_count": 23,
   "id": "e4229e57-f4fa-4b2e-9bbf-39f772986cf2",
   "metadata": {},
   "outputs": [
    {
     "name": "stderr",
     "output_type": "stream",
     "text": [
      "C:\\Users\\user\\anaconda3\\envs\\ai\\lib\\site-packages\\IPython\\core\\pylabtools.py:170: UserWarning: Glyph 50696 (\\N{HANGUL SYLLABLE YE}) missing from font(s) DejaVu Sans.\n",
      "  fig.canvas.print_figure(bytes_io, **kw)\n",
      "C:\\Users\\user\\anaconda3\\envs\\ai\\lib\\site-packages\\IPython\\core\\pylabtools.py:170: UserWarning: Glyph 52769 (\\N{HANGUL SYLLABLE CEUG}) missing from font(s) DejaVu Sans.\n",
      "  fig.canvas.print_figure(bytes_io, **kw)\n",
      "C:\\Users\\user\\anaconda3\\envs\\ai\\lib\\site-packages\\IPython\\core\\pylabtools.py:170: UserWarning: Glyph 46108 (\\N{HANGUL SYLLABLE DOEN}) missing from font(s) DejaVu Sans.\n",
      "  fig.canvas.print_figure(bytes_io, **kw)\n",
      "C:\\Users\\user\\anaconda3\\envs\\ai\\lib\\site-packages\\IPython\\core\\pylabtools.py:170: UserWarning: Glyph 54876 (\\N{HANGUL SYLLABLE HWAL}) missing from font(s) DejaVu Sans.\n",
      "  fig.canvas.print_figure(bytes_io, **kw)\n",
      "C:\\Users\\user\\anaconda3\\envs\\ai\\lib\\site-packages\\IPython\\core\\pylabtools.py:170: UserWarning: Glyph 46041 (\\N{HANGUL SYLLABLE DONG}) missing from font(s) DejaVu Sans.\n",
      "  fig.canvas.print_figure(bytes_io, **kw)\n",
      "C:\\Users\\user\\anaconda3\\envs\\ai\\lib\\site-packages\\IPython\\core\\pylabtools.py:170: UserWarning: Glyph 48516 (\\N{HANGUL SYLLABLE BUN}) missing from font(s) DejaVu Sans.\n",
      "  fig.canvas.print_figure(bytes_io, **kw)\n",
      "C:\\Users\\user\\anaconda3\\envs\\ai\\lib\\site-packages\\IPython\\core\\pylabtools.py:170: UserWarning: Glyph 54252 (\\N{HANGUL SYLLABLE PO}) missing from font(s) DejaVu Sans.\n",
      "  fig.canvas.print_figure(bytes_io, **kw)\n"
     ]
    },
    {
     "data": {
      "image/png": "[encoded data removed]",
      "text/plain": [
       "<Figure size 1200x600 with 1 Axes>"
      ]
     },
     "metadata": {},
     "output_type": "display_data"
    }
   ],
   "source": [
    "# 예측된 활동 레이블의 분포 시각화\n",
    "activity_counts = pd.Series(predicted_activities).value_counts()\n",
    "plt.figure(figsize=(12, 6))\n",
    "sns.barplot(x=activity_counts.index, y=activity_counts.values)\n",
    "plt.title('예측된 활동 분포')\n",
    "plt.xlabel('Activity')\n",
    "plt.ylabel('Count')\n",
    "plt.xticks(rotation=45)\n",
    "plt.show()"
   ]
  },
  {
   "cell_type": "code",
   "execution_count": null,
   "id": "ddd2ba0b-45d6-4298-9ede-6f2d4e589bd2",
   "metadata": {},
   "outputs": [],
   "source": []
  }
 ],
 "metadata": {
  "kernelspec": {
   "display_name": "Python 3 (ipykernel)",
   "language": "python",
   "name": "python3"
  },
  "language_info": {
   "codemirror_mode": {
    "name": "ipython",
    "version": 3
   },
   "file_extension": ".py",
   "mimetype": "text/x-python",
   "name": "python",
   "nbconvert_exporter": "python",
   "pygments_lexer": "ipython3",
   "version": "3.10.15"
  }
 },
 "nbformat": 4,
 "nbformat_minor": 5
}
