{
 "cells": [
  {
   "cell_type": "markdown",
   "id": "3821fe74-1551-44b6-a51f-0089b4fb2eaf",
   "metadata": {},
   "source": [
    "# MHEALTH 데이터셋 이해하기\n",
    "***\n",
    "1. 데이터셋 구조\n",
    "    - 피험자별 로그 파일: 각 피험자의 데이터는 `mHealth_subject<SUBJECT_ID>.log` 파일에 저장되어 있음\n",
    "    - **샘플과 센서 데이터**: 각 파일은 시간 순서대로 기록된 센서 데이터(행)와 각 센서별 측정값(열)을 포함\n",
    "    - **레이블**: 24번째 열은 활동 레이블을 나타내며, '0'은 null 클래스를 의미\n",
    "\n",
    "2. 센서 데이터\n",
    "    - 흉부 센서: 가속도계 (X, Y, Z)\n",
    "    - 심전도(ECG): 리드 1, 리드 2\n",
    "    - 좌측 발목 센서: 가속도계, 자이로스코프, 자력계 (각각 X, Y, Z 축)\n",
    "    - 우측 하완 센서(손목 센서로 간주): 가속도계, 자이로스코프, 자력계 (각각 X, Y, Z 축)\n",
    "\n",
    "3. 활동 레이블\n",
    "    1. `0`: null 클래스\n",
    "    2. `1`: 앉기 (Standing still)\n",
    "    3. `2`: 걷기\n",
    "    4. `3`: 계단 오르기\n",
    "    5. `4`: 계단 내리기\n",
    "    6. `5`: 달리기\n",
    "    7. `6`: 운동 (cycling)\n",
    "    8. `7`: 조깅\n",
    "    9. `8`: 점핑 잭 (jumping)\n",
    "    10. `9`: 로프 스킵 (rope jumping)"
   ]
  },
  {
   "cell_type": "markdown",
   "id": "463b88af-1ca4-4773-838d-7860e215c46d",
   "metadata": {},
   "source": [
    "# 목차\n",
    "1. 라이브러리 임포트 및 설정\n",
    "2. 슬라이딩 윈도우 함수 정의\n",
    "3. 특성 추출 함수 정의\n",
    "4. 데이터 증강 함수 정의\n",
    "5. MHEALTH 데이터 로드 및 전처리\n",
    "    - 데이터 로드\n",
    "    - 슬라이딩 윈도우 적용 및 특성 추출\n",
    "    - 데이터 증강\n",
    "    - 데이터 스케일링\n",
    "6. 데이터셋 분할 및 시퀀스 생성\n",
    "7. 데이터셋 및 데이터로더 생성\n",
    "8. CNN-LSTM 모델 정의\n",
    "9. 모델 학습\n",
    "10. 모델 평가\n",
    "    - 혼동 행렬 및 분류 보고서 출력\n",
    "11. 마무리"
   ]
  },
  {
   "cell_type": "markdown",
   "id": "87e5612a-7394-476d-8df0-789c0bc18422",
   "metadata": {},
   "source": [
    "# 1. 필요한 라이브러리 임포트"
   ]
  },
  {
   "cell_type": "code",
   "execution_count": 1,
   "id": "0cf10de0-a204-490f-b971-13a9f2d93d44",
   "metadata": {},
   "outputs": [
    {
     "name": "stdout",
     "output_type": "stream",
     "text": [
      "사용 중인 디바이스: cuda\n",
      "GPU 이름: NVIDIA GeForce GTX 1650\n"
     ]
    }
   ],
   "source": [
    "import os\n",
    "import glob\n",
    "import numpy as np\n",
    "import pandas as pd\n",
    "from scipy import stats\n",
    "from sklearn.preprocessing import StandardScaler\n",
    "from sklearn.model_selection import train_test_split\n",
    "from sklearn.metrics import confusion_matrix, classification_report\n",
    "import joblib\n",
    "import matplotlib.pyplot as plt\n",
    "import seaborn as sns\n",
    "\n",
    "import torch\n",
    "import torch.nn as nn\n",
    "from torch.utils.data import Dataset, DataLoader\n",
    "\n",
    "import pywt\n",
    "\n",
    "# GPU 설정\n",
    "device = torch.device('cuda' if torch.cuda.is_available() else 'cpu')\n",
    "print(f\"사용 중인 디바이스: {device}\")\n",
    "if device.type == 'cuda':\n",
    "    print(f\"GPU 이름: {torch.cuda.get_device_name(0)}\")"
   ]
  },
  {
   "cell_type": "markdown",
   "id": "3ed2e729-cd3a-46f9-9f44-71da4da10019",
   "metadata": {},
   "source": [
    "# 2. 슬라이딩 윈도우 함수 정의"
   ]
  },
  {
   "cell_type": "code",
   "execution_count": 2,
   "id": "b19f0352-d304-4208-bc30-751c9c8a5065",
   "metadata": {},
   "outputs": [],
   "source": [
    "def sliding_window(data, window_size, step_size):\n",
    "    \"\"\"\n",
    "    슬라이딩 윈도우를 적용하여 데이터를 윈도우로 분할합니다.\n",
    "\n",
    "    Parameters:\n",
    "        data (numpy array): 입력 데이터 (samples, channels).\n",
    "        window_size (int): 윈도우 크기.\n",
    "        step_size (int): 윈도우 이동 크기.\n",
    "\n",
    "    Returns:\n",
    "        numpy array: 윈도우로 분할된 데이터 (num_windows, window_size, channels).\n",
    "    \"\"\"\n",
    "    \n",
    "    num_samples = data.shape[0]\n",
    "    \n",
    "    if num_samples < window_size:\n",
    "        return np.array([])  # 빈 배열 반환\n",
    "        \n",
    "    windows = []\n",
    "    \n",
    "    for start in range(0, num_samples - window_size + 1, step_size):\n",
    "        end = start + window_size\n",
    "        window = data[start:end, :]\n",
    "        windows.append(window)\n",
    "        \n",
    "    return np.array(windows)"
   ]
  },
  {
   "cell_type": "markdown",
   "id": "5c1779ee-98b5-407c-a28f-ac07e9394153",
   "metadata": {},
   "source": [
    "# 3. 특성 추출 함수 정의"
   ]
  },
  {
   "cell_type": "code",
   "execution_count": 3,
   "id": "c297c35e-77be-4efb-9030-7a2c93d4bd7b",
   "metadata": {},
   "outputs": [],
   "source": [
    "def extract_features(windows):\n",
    "    \"\"\"\n",
    "    각 윈도우에 대해 특성을 추출합니다.\n",
    "\n",
    "    Parameters:\n",
    "        windows (numpy array): 윈도우로 분할된 데이터 (num_windows, window_size, channels).\n",
    "\n",
    "    Returns:\n",
    "        numpy array: 추출된 특성 (num_windows, num_features).\n",
    "    \"\"\"\n",
    "    \n",
    "    features = []\n",
    "    \n",
    "    for window in windows:\n",
    "        window_features = []\n",
    "        \n",
    "        if window.ndim == 1:\n",
    "            window = window[:, np.newaxis]\n",
    "            \n",
    "        num_channels = window.shape[1]\n",
    "        \n",
    "        for channel in range(num_channels):\n",
    "            signal = window[:, channel]\n",
    "            \n",
    "            # 기본 통계량\n",
    "            mean = np.mean(signal)\n",
    "            std = np.std(signal)\n",
    "            skewness = stats.skew(signal)\n",
    "            kurtosis = stats.kurtosis(signal)\n",
    "            rms = np.sqrt(np.mean(signal**2))\n",
    "            \n",
    "            # FFT\n",
    "            fft_coeffs = np.fft.rfft(signal)\n",
    "            fft_mean = np.mean(np.abs(fft_coeffs))\n",
    "            fft_std = np.std(np.abs(fft_coeffs))\n",
    "            \n",
    "            # 웨이블릿 변환 후 에너지\n",
    "            coeffs = pywt.wavedec(signal, 'db1', level=3)\n",
    "            energy = sum([np.sum(c**2) for c in coeffs])\n",
    "            \n",
    "            # 특성 벡터에 추가\n",
    "            window_features.extend([mean, std, skewness, kurtosis, rms, fft_mean, fft_std, energy])\n",
    "            \n",
    "        features.append(window_features)\n",
    "    return np.array(features)\n"
   ]
  },
  {
   "cell_type": "markdown",
   "id": "3c901727-91fe-4434-a7e2-f5fd5e82a144",
   "metadata": {},
   "source": [
    "# 4. 데이터 증강 함수 정의"
   ]
  },
  {
   "cell_type": "code",
   "execution_count": 4,
   "id": "ade0d05d-3f5f-47bc-a3f9-674cdb005b91",
   "metadata": {},
   "outputs": [],
   "source": [
    "def augment_data(X, y):\n",
    "    \"\"\"\n",
    "    데이터 증강을 위해 가우시안 노이즈를 추가합니다.\n",
    "\n",
    "    Parameters:\n",
    "        X (numpy array): 입력 데이터.\n",
    "        y (numpy array): 레이블.\n",
    "\n",
    "    Returns:\n",
    "        tuple: 증강된 데이터와 레이블.\n",
    "    \"\"\"\n",
    "    \n",
    "    noise = np.random.normal(0, 0.01, X.shape)\n",
    "    X_augmented = X + noise\n",
    "    y_augmented = y.copy()\n",
    "    \n",
    "    return X_augmented, y_augmented"
   ]
  },
  {
   "cell_type": "markdown",
   "id": "fd9e27f6-0f70-4515-8685-79b9da65c157",
   "metadata": {},
   "source": [
    "# 5. MHEALTH 데이터 로드 및 전처리\n",
    "***\n",
    "## 5.1 데이터 로드"
   ]
  },
  {
   "cell_type": "code",
   "execution_count": 5,
   "id": "c03f444a-ca9d-45fb-b001-a5940ab62ec9",
   "metadata": {
    "scrolled": true
   },
   "outputs": [
    {
     "name": "stdout",
     "output_type": "stream",
     "text": [
      "파일명: C:/AI/data/MHEALTHDATASET\\mHealth_subject1.log\n",
      "data.shape: (161280, 24)\n",
      "파일명: C:/AI/data/MHEALTHDATASET\\mHealth_subject10.log\n",
      "data.shape: (98304, 24)\n",
      "파일명: C:/AI/data/MHEALTHDATASET\\mHealth_subject2.log\n",
      "data.shape: (130561, 24)\n",
      "파일명: C:/AI/data/MHEALTHDATASET\\mHealth_subject3.log\n",
      "data.shape: (122112, 24)\n",
      "파일명: C:/AI/data/MHEALTHDATASET\\mHealth_subject4.log\n",
      "data.shape: (116736, 24)\n",
      "파일명: C:/AI/data/MHEALTHDATASET\\mHealth_subject5.log\n",
      "data.shape: (119808, 24)\n",
      "파일명: C:/AI/data/MHEALTHDATASET\\mHealth_subject6.log\n",
      "data.shape: (98304, 24)\n",
      "파일명: C:/AI/data/MHEALTHDATASET\\mHealth_subject7.log\n",
      "data.shape: (104448, 24)\n",
      "파일명: C:/AI/data/MHEALTHDATASET\\mHealth_subject8.log\n",
      "data.shape: (129024, 24)\n",
      "파일명: C:/AI/data/MHEALTHDATASET\\mHealth_subject9.log\n",
      "data.shape: (135168, 24)\n",
      "MHEALTH_DataSet 자이로스코프:\n",
      "[array([[-0.058824, -0.93429 , -0.34483 ],\n",
      "       [-0.058824, -0.93429 , -0.34483 ],\n",
      "       [-0.058824, -0.93429 , -0.34483 ],\n",
      "       ...,\n",
      "       [-1.102   , -0.47433 , -0.38362 ],\n",
      "       [-1.102   , -0.47433 , -0.38362 ],\n",
      "       [-1.1373  , -0.38193 , -0.37069 ]]), array([[-0.46078 , -0.37372 , -0.056034],\n",
      "       [-0.47255 , -0.3655  , -0.043103],\n",
      "       [-0.47255 , -0.3655  , -0.043103],\n",
      "       ...,\n",
      "       [-0.43725 , -1.0185  ,  0.079741],\n",
      "       [-0.42549 , -1.037   ,  0.084052],\n",
      "       [-0.42549 , -1.037   ,  0.084052]]), array([[-0.41176 , -0.40452 ,  0.012931],\n",
      "       [-0.37059 , -0.41478 , -0.049569],\n",
      "       [-0.37059 , -0.41478 , -0.049569],\n",
      "       ...,\n",
      "       [ 0.55686 , -0.41889 ,  1.1056  ],\n",
      "       [ 0.55686 , -0.41889 ,  1.1056  ],\n",
      "       [ 0.55686 , -0.41889 ,  1.1056  ]]), array([[-0.83725 , -0.65092 ,  0.17672 ],\n",
      "       [-0.83725 , -0.65092 ,  0.17672 ],\n",
      "       [-0.83725 , -0.65092 ,  0.17672 ],\n",
      "       ...,\n",
      "       [ 0.63922 ,  0.067762,  0.46767 ],\n",
      "       [ 0.63922 ,  0.067762,  0.46767 ],\n",
      "       [ 0.68235 ,  0.041068,  0.42457 ]]), array([[-0.35686 , -0.44148 , -0.036638],\n",
      "       [-0.35686 , -0.44148 , -0.036638],\n",
      "       [-0.35686 , -0.44148 , -0.036638],\n",
      "       ...,\n",
      "       [-0.86275 ,  0.26899 ,  0.63793 ],\n",
      "       [-0.86275 ,  0.26899 ,  0.63793 ],\n",
      "       [-0.9098  ,  0.31006 ,  0.51509 ]]), array([[ 0.42157, -1.0062 ,  0.42026],\n",
      "       [ 0.42157, -1.0062 ,  0.42026],\n",
      "       [ 0.42157, -1.0062 ,  0.42026],\n",
      "       ...,\n",
      "       [ 0.6    , -1.0205 ,  0.27155],\n",
      "       [ 0.6    , -1.0205 ,  0.27155],\n",
      "       [ 0.6    , -1.0205 ,  0.27155]]), array([[ 0.22353, -1.0575 , -0.24569],\n",
      "       [ 0.22353, -1.0575 , -0.24569],\n",
      "       [ 0.22353, -1.0575 , -0.24569],\n",
      "       ...,\n",
      "       [-0.37255, -1.0595 ,  0.29526],\n",
      "       [-0.37255, -1.0595 ,  0.29526],\n",
      "       [-0.29804, -1.1129 ,  0.27802]]), array([[ 0.33725, -0.82957,  0.1444 ],\n",
      "       [ 0.37647, -0.83984,  0.125  ],\n",
      "       [ 0.37647, -0.83984,  0.125  ],\n",
      "       ...,\n",
      "       [-0.12941, -0.6694 ,  0.89009],\n",
      "       [-0.12941, -0.6694 ,  0.89009],\n",
      "       [-0.12941, -0.6694 ,  0.89009]]), array([[-0.78431 , -0.20329 , -0.32543 ],\n",
      "       [-0.78431 , -0.20329 , -0.32543 ],\n",
      "       [-0.78431 , -0.20329 , -0.32543 ],\n",
      "       ...,\n",
      "       [-0.61961 ,  0.051335, -0.84914 ],\n",
      "       [-0.61961 ,  0.051335, -0.84914 ],\n",
      "       [-0.61961 ,  0.051335, -0.84914 ]]), array([[-0.80784, -0.70226, -0.15302],\n",
      "       [-0.80784, -0.70226, -0.15302],\n",
      "       [-0.80784, -0.68994, -0.15948],\n",
      "       ...,\n",
      "       [-0.7549 , -0.57084, -0.17888],\n",
      "       [-0.7549 , -0.57084, -0.17888],\n",
      "       [-0.7549 , -0.57084, -0.17888]])]\n",
      "MHEALTH_DataSet 레이블:\n",
      "[array([1, 1, 1, ..., 5, 5, 5]), array([ 5,  5,  5, ..., 12, 12, 12]), array([5, 5, 5, ..., 9, 9, 9]), array([1, 1, 1, ..., 5, 5, 5]), array([ 5,  5,  5, ..., 12, 12, 12]), array([1, 1, 1, ..., 5, 5, 5]), array([1, 1, 1, ..., 5, 5, 5]), array([ 5,  5,  5, ..., 12, 12, 12]), array([ 1,  1,  1, ..., 12, 12, 12]), array([1, 1, 1, ..., 5, 5, 5])]\n"
     ]
    }
   ],
   "source": [
    "# 데이터 파일 경로 설정\n",
    "data_files = glob.glob(r'C:/AI/data/MHEALTHDATASET/mHealth_subject*.log')\n",
    "\n",
    "# 데이터와 레이블을 저장할 리스트 초기\n",
    "X_list = []\n",
    "y_list = []\n",
    "\n",
    "for file in data_files:\n",
    "    data = pd.read_csv(file, sep='\\s+', header=None)\n",
    "    print(f\"파일명: {file}\")\n",
    "    print(f\"data.shape: {data.shape}\")\n",
    "\n",
    "    # 데이터의 열 수가 24개인지 확인\n",
    "    if data.shape[1] != 24:\n",
    "        print(f\"데이터의 열 수가 24가 아닙니다. 파일을 확인하세요.\")\n",
    "        continue  # 다음 파일로 넘어감\n",
    "        \n",
    "    # 우측 하완 센서의 가속도계 데이터 추출 (열 15~17)\n",
    "    # right_arm_accel = data.iloc[:, 14:17].values  # 열 15~17 (Python 인덱스는 0부터 시작)\n",
    "    \n",
    "     # 우측 하완 센서의 자이로스코프 데이터 추출 (열 18~20)\n",
    "    right_arm_gyro = data.iloc[:, 17:20].values   # 열 18~20\n",
    "    # 필요한 경우 자력계 데이터(열 21~23)도 포함 가능\n",
    "    \n",
    "    # 센서 데이터를 결합\n",
    "    # sensor_data = np.hstack((right_arm_accel, right_arm_gyro))\n",
    "    \n",
    "    # 레이블 추출 (열 24)\n",
    "    labels = data.iloc[:, 23].values  # 열 24\n",
    "    \n",
    "    # null 클래스(레이블 0)는 제외하거나 필요에 따라 처리\n",
    "    valid_indices = labels != 0\n",
    "    sensor_data = right_arm_gyro[valid_indices, :]\n",
    "    labels = labels[valid_indices]\n",
    "    \n",
    "    # 데이터와 레이블 저장\n",
    "    X_list.append(sensor_data)\n",
    "    y_list.append(labels)\n",
    "\n",
    "print(f\"MHEALTH_DataSet 자이로스코프:\\n{X_list}\")\n",
    "print(f\"MHEALTH_DataSet 레이블:\\n{y_list}\")"
   ]
  },
  {
   "cell_type": "markdown",
   "id": "cfa53471-19ff-4cf0-aca8-8ec98cdba66f",
   "metadata": {},
   "source": [
    "- `data.shape`: (161,280, 24)\n",
    "    - 데이터 파일이 올바르게 읽혀졌으며, 24개의 열을 가지고 있습니다.\n",
    "- `right_arm_gyro.shape`: (161,280, 3)\n",
    "    - 우측 하완 센서의 자이로스코프 데이터가 올바르게 추출되었습니다.\n",
    "- `labels.shape`: (161,280,)\n",
    "    - 레이블 데이터도 올바르게 추출되었습니다.\n",
    "- `valid_indices.shape`: (161,280,)\n",
    "    - 레이블이 0이 아닌 샘플을 식별하는 부울 배열입니다.\n",
    "- `sensor_data.shape after indexing`: (35,174, 3)\n",
    "    - 레이블이 0이 아닌 샘플의 자이로스코프 데이터가 올바르게 인덱싱되었습니다.\n",
    "- `labels.shape after indexing`: (35,174,)\n",
    "    - 인덱싱 후 레이블의 크기도 일치합니다."
   ]
  },
  {
   "cell_type": "markdown",
   "id": "503b930c-8248-4b62-89e7-666aad0b0874",
   "metadata": {},
   "source": [
    "## 5.2 데이터 결합"
   ]
  },
  {
   "cell_type": "code",
   "execution_count": 6,
   "id": "f02fe08c-0631-419d-b87f-f67e08bcd635",
   "metadata": {},
   "outputs": [
    {
     "name": "stdout",
     "output_type": "stream",
     "text": [
      "전체 데이터 크기: (343195, 3)\n",
      "전체 레이블 크기: (343195,)\n"
     ]
    }
   ],
   "source": [
    "# 리스트를 배열로 변환\n",
    "X_raw = np.vstack(X_list)\n",
    "y_raw = np.hstack(y_list)\n",
    "\n",
    "# 레이블을 0부터 시작하도록 조정\n",
    "y_raw = y_raw - 1  # 레이블이 1부터 시작하므로 0부터 시작하도록 조정\n",
    "\n",
    "print(\"전체 데이터 크기:\", X_raw.shape)\n",
    "print(\"전체 레이블 크기:\", y_raw.shape)"
   ]
  },
  {
   "cell_type": "markdown",
   "id": "423c6d81-70b7-4323-a4a9-160aadcd6e0d",
   "metadata": {},
   "source": [
    "- 모든 파일에서 추출한 데이터를 하나의 배열로 결합합니다.\n",
    "- 레이블을 0부터 시작하도록 조정합니다."
   ]
  },
  {
   "cell_type": "markdown",
   "id": "920d6901-5fd4-462d-849c-0d6b0ff163b7",
   "metadata": {},
   "source": [
    "## 5.3 슬라이딩 윈도우 적용 및 특성 추출"
   ]
  },
  {
   "cell_type": "code",
   "execution_count": 7,
   "id": "48745062-2df6-4934-8a3a-ba80bf0aafea",
   "metadata": {},
   "outputs": [
    {
     "name": "stdout",
     "output_type": "stream",
     "text": [
      "윈도우 개수: 5361\n",
      "추출된 특성의 수: 24\n"
     ]
    }
   ],
   "source": [
    "# 윈도우 설정\n",
    "window_size = 128  # 샘플 수에 따라 조정 가능\n",
    "step_size = 64\n",
    "\n",
    "# 슬라이딩 윈도우 적용\n",
    "windows = sliding_window(X_raw, window_size, step_size)\n",
    "labels = sliding_window(y_raw.reshape(-1, 1), window_size, step_size)\n",
    "\n",
    "# 각 윈도우의 레이블은 가장 많이 등장하는 레이블로 설정\n",
    "window_labels = [np.bincount(label_window.flatten().astype(int)).argmax() for label_window in labels]\n",
    "\n",
    "# 특성 추출\n",
    "X_features = extract_features(windows)\n",
    "y_labels = np.array(window_labels)\n",
    "\n",
    "print(\"윈도우 개수:\", X_features.shape[0])\n",
    "print(\"추출된 특성의 수:\", X_features.shape[1])"
   ]
  },
  {
   "cell_type": "markdown",
   "id": "c39dd42e-d480-4a52-abb8-eb70ab5b58ca",
   "metadata": {},
   "source": [
    "- 슬라이딩 윈도우를 적용하여 데이터를 분할합니다.\n",
    "- 각 윈도우에서 가장 많이 등장하는 레이블을 해당 윈도우의 레이블로 설정합니다.\n",
    "- 각 윈도우에 대해 특성을 추출합니다."
   ]
  },
  {
   "cell_type": "markdown",
   "id": "00ee8d6c-644a-4941-8a01-6c03a7c8fffb",
   "metadata": {},
   "source": [
    "## 5.4 데이터 증강"
   ]
  },
  {
   "cell_type": "code",
   "execution_count": 8,
   "id": "99a34876-0645-452f-bc92-abe5683b6569",
   "metadata": {},
   "outputs": [
    {
     "name": "stdout",
     "output_type": "stream",
     "text": [
      "증강 후 데이터 크기: (10722, 24)\n"
     ]
    }
   ],
   "source": [
    "# 데이터 증강 적용\n",
    "X_augmented, y_augmented = augment_data(X_features, y_labels)\n",
    "\n",
    "# 원본 데이터와 증강된 데이터 결합\n",
    "X_combined = np.vstack((X_features, X_augmented))\n",
    "y_combined = np.hstack((y_labels, y_augmented))\n",
    "\n",
    "print(\"증강 후 데이터 크기:\", X_combined.shape)"
   ]
  },
  {
   "cell_type": "markdown",
   "id": "324040b6-5303-44ea-aac6-2c4308e514b9",
   "metadata": {},
   "source": [
    "## 5.5 데이터 스케일링"
   ]
  },
  {
   "cell_type": "code",
   "execution_count": 9,
   "id": "1eaf4ded-b733-467f-81ee-ae050099e7ce",
   "metadata": {},
   "outputs": [
    {
     "data": {
      "text/plain": [
       "['scaler_mhealth_gyro.pkl']"
      ]
     },
     "execution_count": 9,
     "metadata": {},
     "output_type": "execute_result"
    }
   ],
   "source": [
    "# 스케일링\n",
    "scaler = StandardScaler()\n",
    "X_scaled = scaler.fit_transform(X_combined)\n",
    "\n",
    "# 스케일러 저장\n",
    "joblib.dump(scaler, 'scaler_mhealth_gyro.pkl')"
   ]
  },
  {
   "cell_type": "markdown",
   "id": "99fa1d86-7db3-4a61-afca-7f1745f9e035",
   "metadata": {},
   "source": [
    "# 6. 데이터셋 분할 및 시퀀스 생성\n",
    "***\n",
    "## 6.1 데이터셋 분할"
   ]
  },
  {
   "cell_type": "code",
   "execution_count": 10,
   "id": "e9f69303-10c5-45f0-924f-88d02ac40910",
   "metadata": {},
   "outputs": [
    {
     "name": "stdout",
     "output_type": "stream",
     "text": [
      "학습 데이터 크기: (8577, 24)\n",
      "검증 데이터 크기: (2145, 24)\n"
     ]
    }
   ],
   "source": [
    "# 데이터셋 분할\n",
    "X_train, X_val, y_train, y_val = train_test_split(\n",
    "    X_scaled,\n",
    "    y_combined,\n",
    "    test_size=0.2,\n",
    "    random_state=42,\n",
    "    stratify=y_combined\n",
    ")\n",
    "\n",
    "print(\"학습 데이터 크기:\", X_train.shape)\n",
    "print(\"검증 데이터 크기:\", X_val.shape)"
   ]
  },
  {
   "cell_type": "markdown",
   "id": "71b37501-0625-44ff-88a0-890e36efb0ee",
   "metadata": {},
   "source": [
    "## 6.2 시퀀스 생성"
   ]
  },
  {
   "cell_type": "code",
   "execution_count": 11,
   "id": "acc0d7ad-f6b2-4245-b21a-5aaf6b036a76",
   "metadata": {},
   "outputs": [
    {
     "name": "stdout",
     "output_type": "stream",
     "text": [
      "시퀀스 생성 후 학습 데이터 크기: (8573, 5, 24)\n",
      "시퀀스 생성 후 검증 데이터 크기: (2141, 5, 24)\n"
     ]
    }
   ],
   "source": [
    "# 시퀀스 길이 설정\n",
    "seq_len = 5  # 원하는 시퀀스 길이로 설정\n",
    "\n",
    "def create_sequences(features, labels, seq_len):\n",
    "    sequences = []\n",
    "    sequence_labels = []\n",
    "    \n",
    "    for i in range(len(features) - seq_len + 1):\n",
    "        seq = features[i:i+seq_len]\n",
    "        label = labels[i + seq_len - 1]\n",
    "        sequences.append(seq)\n",
    "        sequence_labels.append(label)\n",
    "        \n",
    "    return np.array(sequences), np.array(sequence_labels)\n",
    "\n",
    "# 학습 및 검증 데이터에 시퀀스 생성\n",
    "X_train_seq, y_train_seq = create_sequences(X_train,\n",
    "                                            y_train,\n",
    "                                            seq_len)\n",
    "X_val_seq, y_val_seq = create_sequences(X_val,\n",
    "                                        y_val,\n",
    "                                        seq_len)\n",
    "\n",
    "print(\"시퀀스 생성 후 학습 데이터 크기:\", X_train_seq.shape)\n",
    "print(\"시퀀스 생성 후 검증 데이터 크기:\", X_val_seq.shape)"
   ]
  },
  {
   "cell_type": "markdown",
   "id": "735bc10c-a08d-44b8-b1df-a91a3ed3b56b",
   "metadata": {},
   "source": [
    "# 7. 데이터셋 및 데이터로더 생성"
   ]
  },
  {
   "cell_type": "code",
   "execution_count": 12,
   "id": "12c8f676-abe2-4bbe-936e-559a42a02f59",
   "metadata": {},
   "outputs": [],
   "source": [
    "class ActivityDataset(Dataset):\n",
    "    def __init__(self, X, y):\n",
    "        self.X = torch.tensor(X, dtype=torch.float32)\n",
    "        self.y = torch.tensor(y, dtype=torch.long)\n",
    "    def __len__(self):\n",
    "        return len(self.y)\n",
    "    def __getitem__(self, idx):\n",
    "        return self.X[idx], self.y[idx]\n",
    "\n",
    "# 데이터셋 생성\n",
    "train_dataset = ActivityDataset(X_train_seq,\n",
    "                                y_train_seq)\n",
    "val_dataset = ActivityDataset(X_val_seq,\n",
    "                              y_val_seq)\n",
    "\n",
    "# 데이터로더 생성\n",
    "batch_size = 64\n",
    "train_loader = DataLoader(train_dataset, \n",
    "                          batch_size=batch_size,\n",
    "                          shuffle=True)\n",
    "val_loader = DataLoader(val_dataset,\n",
    "                        batch_size=batch_size,\n",
    "                        shuffle=False)"
   ]
  },
  {
   "cell_type": "markdown",
   "id": "857066a7-7992-422c-869a-6a266d420b78",
   "metadata": {},
   "source": [
    "# 8. CNN-LSTM 모델 정의"
   ]
  },
  {
   "cell_type": "code",
   "execution_count": 13,
   "id": "4f5a405a-37aa-4606-8cc9-dcf8ba159afc",
   "metadata": {},
   "outputs": [
    {
     "name": "stdout",
     "output_type": "stream",
     "text": [
      "CNNLSTMModel(\n",
      "  (conv1): Conv1d(24, 64, kernel_size=(3,), stride=(1,), padding=(1,))\n",
      "  (relu): ReLU()\n",
      "  (pool): MaxPool1d(kernel_size=2, stride=2, padding=0, dilation=1, ceil_mode=False)\n",
      "  (lstm): LSTM(64, 128, num_layers=2, batch_first=True, dropout=0.5)\n",
      "  (fc): Linear(in_features=128, out_features=12, bias=True)\n",
      ")\n"
     ]
    }
   ],
   "source": [
    "class CNNLSTMModel(nn.Module):\n",
    "    def __init__(self, num_features, num_classes, dropout):\n",
    "        super(CNNLSTMModel, self).__init__()\n",
    "        self.conv1 = nn.Conv1d(in_channels=num_features,\n",
    "                               out_channels=64,\n",
    "                               kernel_size=3,\n",
    "                               padding=1)\n",
    "        self.relu = nn.ReLU()\n",
    "        self.pool = nn.MaxPool1d(kernel_size=2)\n",
    "        self.lstm = nn.LSTM(input_size=64,\n",
    "                            hidden_size=128,\n",
    "                            num_layers=2,\n",
    "                            batch_first=True,\n",
    "                            dropout=dropout)\n",
    "        self.fc = nn.Linear(128, num_classes)\n",
    "        \n",
    "    def forward(self, x):\n",
    "        x = x.permute(0, 2, 1)  # (batch_size, num_features, seq_len)\n",
    "        x = self.conv1(x)\n",
    "        x = self.relu(x)\n",
    "        x = self.pool(x)  # (batch_size, 64, seq_len/2)\n",
    "        x = x.permute(0, 2, 1)  # (batch_size, seq_len/2, 64)\n",
    "        x, _ = self.lstm(x)\n",
    "        x = x[:, -1, :]  # 마지막 타임스텝의 출력\n",
    "        x = self.fc(x)\n",
    "        return x\n",
    "\n",
    "# 모델 초기화\n",
    "num_features = X_train_seq.shape[2]  # 특성 수\n",
    "num_classes = len(np.unique(y_train_seq))\n",
    "dropout = 0.5\n",
    "\n",
    "model = CNNLSTMModel(num_features, num_classes, dropout)\n",
    "model.to(device)\n",
    "\n",
    "print(model)"
   ]
  },
  {
   "cell_type": "markdown",
   "id": "bdddcbad-076e-4ebd-afb3-2e01856eb83a",
   "metadata": {},
   "source": [
    "# 9. 모델 학습"
   ]
  },
  {
   "cell_type": "code",
   "execution_count": 14,
   "id": "4c191e86-5b23-495a-a13c-f9369057089b",
   "metadata": {
    "scrolled": true
   },
   "outputs": [
    {
     "name": "stdout",
     "output_type": "stream",
     "text": [
      "Epoch 1: 검증 손실이 개선되어 모델을 저장했습니다.\n",
      "Epoch [1/50], Train Loss: 2.2699, Train Acc: 19.02%, Val Loss: 1.8130, Val Acc: 36.06%\n",
      "Epoch 2: 검증 손실이 개선되어 모델을 저장했습니다.\n",
      "Epoch [2/50], Train Loss: 1.6366, Train Acc: 42.34%, Val Loss: 1.4006, Val Acc: 50.63%\n",
      "Epoch 3: 검증 손실이 개선되어 모델을 저장했습니다.\n",
      "Epoch [3/50], Train Loss: 1.3412, Train Acc: 52.27%, Val Loss: 1.2157, Val Acc: 58.20%\n",
      "Epoch 4: 검증 손실이 개선되어 모델을 저장했습니다.\n",
      "Epoch [4/50], Train Loss: 1.1897, Train Acc: 57.25%, Val Loss: 1.1342, Val Acc: 60.35%\n",
      "Epoch 5: 검증 손실이 개선되어 모델을 저장했습니다.\n",
      "Epoch [5/50], Train Loss: 1.0917, Train Acc: 60.34%, Val Loss: 1.0595, Val Acc: 62.03%\n",
      "Epoch 6: 검증 손실이 개선되어 모델을 저장했습니다.\n",
      "Epoch [6/50], Train Loss: 1.0191, Train Acc: 63.21%, Val Loss: 1.0425, Val Acc: 63.15%\n",
      "Epoch 7: 검증 손실이 개선되어 모델을 저장했습니다.\n",
      "Epoch [7/50], Train Loss: 0.9547, Train Acc: 65.61%, Val Loss: 1.0355, Val Acc: 63.05%\n",
      "Epoch 8: 검증 손실이 개선되어 모델을 저장했습니다.\n",
      "Epoch [8/50], Train Loss: 0.9079, Train Acc: 67.12%, Val Loss: 0.9437, Val Acc: 66.46%\n",
      "Epoch 9: 검증 손실이 개선되어 모델을 저장했습니다.\n",
      "Epoch [9/50], Train Loss: 0.8631, Train Acc: 68.60%, Val Loss: 0.9097, Val Acc: 67.96%\n",
      "Epoch 10: 검증 손실이 개선되어 모델을 저장했습니다.\n",
      "Epoch [10/50], Train Loss: 0.8151, Train Acc: 70.41%, Val Loss: 0.8980, Val Acc: 68.57%\n",
      "Epoch 11: 검증 손실이 개선되어 모델을 저장했습니다.\n",
      "Epoch [11/50], Train Loss: 0.7798, Train Acc: 72.13%, Val Loss: 0.8924, Val Acc: 68.75%\n",
      "Epoch 12: 검증 손실이 개선되어 모델을 저장했습니다.\n",
      "Epoch [12/50], Train Loss: 0.7538, Train Acc: 72.96%, Val Loss: 0.8535, Val Acc: 69.73%\n",
      "Epoch 13: 검증 손실이 개선되어 모델을 저장했습니다.\n",
      "Epoch [13/50], Train Loss: 0.7215, Train Acc: 74.07%, Val Loss: 0.8520, Val Acc: 70.62%\n",
      "Epoch [14/50], Train Loss: 0.6938, Train Acc: 75.01%, Val Loss: 0.8652, Val Acc: 69.31%\n",
      "Epoch 15: 검증 손실이 개선되어 모델을 저장했습니다.\n",
      "Epoch [15/50], Train Loss: 0.6685, Train Acc: 75.56%, Val Loss: 0.8315, Val Acc: 71.32%\n",
      "Epoch [16/50], Train Loss: 0.6470, Train Acc: 76.73%, Val Loss: 0.8464, Val Acc: 70.15%\n",
      "Epoch 17: 검증 손실이 개선되어 모델을 저장했습니다.\n",
      "Epoch [17/50], Train Loss: 0.6324, Train Acc: 77.04%, Val Loss: 0.8123, Val Acc: 71.28%\n",
      "Epoch 18: 검증 손실이 개선되어 모델을 저장했습니다.\n",
      "Epoch [18/50], Train Loss: 0.6108, Train Acc: 78.12%, Val Loss: 0.7972, Val Acc: 72.58%\n",
      "Epoch [19/50], Train Loss: 0.5738, Train Acc: 79.49%, Val Loss: 0.8268, Val Acc: 71.56%\n",
      "Epoch [20/50], Train Loss: 0.5602, Train Acc: 79.55%, Val Loss: 0.8172, Val Acc: 72.12%\n",
      "Epoch [21/50], Train Loss: 0.5533, Train Acc: 80.17%, Val Loss: 0.8035, Val Acc: 71.51%\n",
      "Epoch 22: 검증 손실이 개선되어 모델을 저장했습니다.\n",
      "Epoch [22/50], Train Loss: 0.5357, Train Acc: 80.71%, Val Loss: 0.7914, Val Acc: 72.58%\n",
      "Epoch [23/50], Train Loss: 0.5188, Train Acc: 81.29%, Val Loss: 0.8028, Val Acc: 72.16%\n",
      "Epoch [24/50], Train Loss: 0.5015, Train Acc: 82.09%, Val Loss: 0.7971, Val Acc: 73.10%\n",
      "Epoch 25: 검증 손실이 개선되어 모델을 저장했습니다.\n",
      "Epoch [25/50], Train Loss: 0.4942, Train Acc: 82.19%, Val Loss: 0.7833, Val Acc: 73.70%\n",
      "Epoch [26/50], Train Loss: 0.4762, Train Acc: 82.86%, Val Loss: 0.8282, Val Acc: 73.24%\n",
      "Epoch [27/50], Train Loss: 0.4684, Train Acc: 83.16%, Val Loss: 0.8806, Val Acc: 71.93%\n",
      "Epoch [28/50], Train Loss: 0.4561, Train Acc: 83.38%, Val Loss: 0.7920, Val Acc: 74.03%\n",
      "Epoch [29/50], Train Loss: 0.4475, Train Acc: 83.88%, Val Loss: 0.8575, Val Acc: 72.30%\n",
      "Epoch [30/50], Train Loss: 0.4329, Train Acc: 84.37%, Val Loss: 0.8127, Val Acc: 74.12%\n",
      "Epoch [31/50], Train Loss: 0.4028, Train Acc: 85.82%, Val Loss: 0.8386, Val Acc: 72.82%\n",
      "Epoch [32/50], Train Loss: 0.4021, Train Acc: 85.69%, Val Loss: 0.8276, Val Acc: 73.33%\n",
      "Epoch [33/50], Train Loss: 0.4037, Train Acc: 85.65%, Val Loss: 0.8070, Val Acc: 73.61%\n",
      "Epoch [34/50], Train Loss: 0.3712, Train Acc: 86.21%, Val Loss: 0.8381, Val Acc: 73.56%\n",
      "Epoch [35/50], Train Loss: 0.3715, Train Acc: 86.97%, Val Loss: 0.8395, Val Acc: 72.58%\n",
      "Epoch [36/50], Train Loss: 0.3620, Train Acc: 87.32%, Val Loss: 0.8644, Val Acc: 73.75%\n",
      "Epoch [37/50], Train Loss: 0.3401, Train Acc: 87.53%, Val Loss: 0.8498, Val Acc: 74.78%\n",
      "Epoch [38/50], Train Loss: 0.3448, Train Acc: 87.57%, Val Loss: 0.8505, Val Acc: 73.28%\n",
      "Epoch [39/50], Train Loss: 0.3137, Train Acc: 88.87%, Val Loss: 0.8474, Val Acc: 75.25%\n",
      "Epoch [40/50], Train Loss: 0.3248, Train Acc: 88.37%, Val Loss: 0.8660, Val Acc: 73.28%\n",
      "Epoch [41/50], Train Loss: 0.3069, Train Acc: 88.97%, Val Loss: 0.8752, Val Acc: 74.59%\n",
      "Epoch [42/50], Train Loss: 0.3041, Train Acc: 89.27%, Val Loss: 0.9014, Val Acc: 73.66%\n",
      "Epoch [43/50], Train Loss: 0.2985, Train Acc: 89.19%, Val Loss: 0.8886, Val Acc: 74.64%\n",
      "Epoch [44/50], Train Loss: 0.2930, Train Acc: 89.23%, Val Loss: 0.9407, Val Acc: 72.07%\n",
      "Epoch [45/50], Train Loss: 0.2892, Train Acc: 89.64%, Val Loss: 0.9449, Val Acc: 73.28%\n",
      "Epoch [46/50], Train Loss: 0.2708, Train Acc: 90.04%, Val Loss: 0.9184, Val Acc: 74.26%\n",
      "Epoch [47/50], Train Loss: 0.2764, Train Acc: 90.03%, Val Loss: 0.9307, Val Acc: 73.66%\n",
      "Epoch [48/50], Train Loss: 0.2603, Train Acc: 90.53%, Val Loss: 0.9322, Val Acc: 73.52%\n",
      "Epoch [49/50], Train Loss: 0.2476, Train Acc: 91.29%, Val Loss: 0.9026, Val Acc: 75.20%\n",
      "Epoch [50/50], Train Loss: 0.2399, Train Acc: 91.52%, Val Loss: 0.9474, Val Acc: 73.89%\n"
     ]
    }
   ],
   "source": [
    "criterion = nn.CrossEntropyLoss()\n",
    "optimizer = torch.optim.Adam(model.parameters(), lr=1e-3)\n",
    "num_epochs = 50\n",
    "best_val_loss = float('inf')\n",
    "patience = 5\n",
    "counter = 0\n",
    "\n",
    "for epoch in range(num_epochs):\n",
    "    # 학습 모드\n",
    "    model.train()\n",
    "    total_loss = 0\n",
    "    total_correct = 0\n",
    "    \n",
    "    for X_batch, y_batch in train_loader:\n",
    "        X_batch = X_batch.to(device)\n",
    "        y_batch = y_batch.to(device)\n",
    "        \n",
    "        optimizer.zero_grad()\n",
    "        outputs = model(X_batch)\n",
    "        loss = criterion(outputs, y_batch)\n",
    "        loss.backward()\n",
    "        optimizer.step()\n",
    "        \n",
    "        total_loss += loss.item() * X_batch.size(0)\n",
    "        _, preds = torch.max(outputs, 1)\n",
    "        total_correct += (preds == y_batch).sum().item()\n",
    "        \n",
    "    train_loss = total_loss / len(train_dataset)\n",
    "    train_acc = total_correct / len(train_dataset)\n",
    "\n",
    "    # 검증 모드\n",
    "    model.eval()\n",
    "    total_loss = 0\n",
    "    total_correct = 0\n",
    "    \n",
    "    with torch.no_grad():\n",
    "        for X_batch, y_batch in val_loader:\n",
    "            X_batch = X_batch.to(device)\n",
    "            y_batch = y_batch.to(device)\n",
    "            \n",
    "            outputs = model(X_batch)\n",
    "            loss = criterion(outputs, y_batch)\n",
    "            \n",
    "            total_loss += loss.item() * X_batch.size(0)\n",
    "            _, preds = torch.max(outputs, 1)\n",
    "            total_correct += (preds == y_batch).sum().item()\n",
    "            \n",
    "    val_loss = total_loss / len(val_dataset)\n",
    "    val_acc = total_correct / len(val_dataset)\n",
    "\n",
    "    # 검증 손실이 개선되었는지 확인하고 모델 저장\n",
    "    if val_loss < best_val_loss:\n",
    "        best_val_loss = val_loss\n",
    "        torch.save(model.state_dict(), 'best_model_mhealth_gyro.pth')\n",
    "        counter = 0\n",
    "        print(f\"Epoch {epoch+1}: 검증 손실이 개선되어 모델을 저장했습니다.\")\n",
    "    # else:\n",
    "    #     counter += 1\n",
    "    #     if counter >= patience:\n",
    "    #         print(f\"조기 종료 조건에 도달하여 학습을 종료합니다.\")\n",
    "    #         break\n",
    "\n",
    "    # 에포크 결과 출력\n",
    "    print(f\"Epoch [{epoch+1}/{num_epochs}], \"\n",
    "          f\"Train Loss: {train_loss:.4f}, Train Acc: {train_acc*100:.2f}%, \"\n",
    "          f\"Val Loss: {val_loss:.4f}, Val Acc: {val_acc*100:.2f}%\")"
   ]
  },
  {
   "cell_type": "markdown",
   "id": "590ea1e8-e52f-4356-a4f9-5c91100c8907",
   "metadata": {},
   "source": [
    "# 10. 모델 평가\n",
    "***\n",
    "## 10.1 혼동 행렬 및 분류 보고서 출력"
   ]
  },
  {
   "cell_type": "code",
   "execution_count": 15,
   "id": "db9d54e1-aad2-42b9-b565-a2bc135077f4",
   "metadata": {
    "scrolled": true
   },
   "outputs": [
    {
     "name": "stderr",
     "output_type": "stream",
     "text": [
      "C:\\Users\\user\\AppData\\Local\\Temp\\ipykernel_23348\\2991385216.py:2: FutureWarning: You are using `torch.load` with `weights_only=False` (the current default value), which uses the default pickle module implicitly. It is possible to construct malicious pickle data which will execute arbitrary code during unpickling (See https://github.com/pytorch/pytorch/blob/main/SECURITY.md#untrusted-models for more details). In a future release, the default value for `weights_only` will be flipped to `True`. This limits the functions that could be executed during unpickling. Arbitrary objects will no longer be allowed to be loaded via this mode unless they are explicitly allowlisted by the user via `torch.serialization.add_safe_globals`. We recommend you start setting `weights_only=True` for any use case where you don't have full control of the loaded file. Please open an issue on GitHub for any issues related to this experimental feature.\n",
      "  model.load_state_dict(torch.load('best_model_mhealth_gyro.pth'))\n",
      "C:\\Users\\user\\anaconda3\\envs\\ai\\lib\\site-packages\\IPython\\core\\pylabtools.py:170: UserWarning: Glyph 49892 (\\N{HANGUL SYLLABLE SIL}) missing from font(s) DejaVu Sans.\n",
      "  fig.canvas.print_figure(bytes_io, **kw)\n",
      "C:\\Users\\user\\anaconda3\\envs\\ai\\lib\\site-packages\\IPython\\core\\pylabtools.py:170: UserWarning: Glyph 51228 (\\N{HANGUL SYLLABLE JE}) missing from font(s) DejaVu Sans.\n",
      "  fig.canvas.print_figure(bytes_io, **kw)\n",
      "C:\\Users\\user\\anaconda3\\envs\\ai\\lib\\site-packages\\IPython\\core\\pylabtools.py:170: UserWarning: Glyph 47112 (\\N{HANGUL SYLLABLE RE}) missing from font(s) DejaVu Sans.\n",
      "  fig.canvas.print_figure(bytes_io, **kw)\n",
      "C:\\Users\\user\\anaconda3\\envs\\ai\\lib\\site-packages\\IPython\\core\\pylabtools.py:170: UserWarning: Glyph 51060 (\\N{HANGUL SYLLABLE I}) missing from font(s) DejaVu Sans.\n",
      "  fig.canvas.print_figure(bytes_io, **kw)\n",
      "C:\\Users\\user\\anaconda3\\envs\\ai\\lib\\site-packages\\IPython\\core\\pylabtools.py:170: UserWarning: Glyph 48660 (\\N{HANGUL SYLLABLE BEUL}) missing from font(s) DejaVu Sans.\n",
      "  fig.canvas.print_figure(bytes_io, **kw)\n",
      "C:\\Users\\user\\anaconda3\\envs\\ai\\lib\\site-packages\\IPython\\core\\pylabtools.py:170: UserWarning: Glyph 54844 (\\N{HANGUL SYLLABLE HON}) missing from font(s) DejaVu Sans.\n",
      "  fig.canvas.print_figure(bytes_io, **kw)\n",
      "C:\\Users\\user\\anaconda3\\envs\\ai\\lib\\site-packages\\IPython\\core\\pylabtools.py:170: UserWarning: Glyph 46041 (\\N{HANGUL SYLLABLE DONG}) missing from font(s) DejaVu Sans.\n",
      "  fig.canvas.print_figure(bytes_io, **kw)\n",
      "C:\\Users\\user\\anaconda3\\envs\\ai\\lib\\site-packages\\IPython\\core\\pylabtools.py:170: UserWarning: Glyph 54665 (\\N{HANGUL SYLLABLE HAENG}) missing from font(s) DejaVu Sans.\n",
      "  fig.canvas.print_figure(bytes_io, **kw)\n",
      "C:\\Users\\user\\anaconda3\\envs\\ai\\lib\\site-packages\\IPython\\core\\pylabtools.py:170: UserWarning: Glyph 47148 (\\N{HANGUL SYLLABLE RYEOL}) missing from font(s) DejaVu Sans.\n",
      "  fig.canvas.print_figure(bytes_io, **kw)\n",
      "C:\\Users\\user\\anaconda3\\envs\\ai\\lib\\site-packages\\IPython\\core\\pylabtools.py:170: UserWarning: Glyph 50696 (\\N{HANGUL SYLLABLE YE}) missing from font(s) DejaVu Sans.\n",
      "  fig.canvas.print_figure(bytes_io, **kw)\n",
      "C:\\Users\\user\\anaconda3\\envs\\ai\\lib\\site-packages\\IPython\\core\\pylabtools.py:170: UserWarning: Glyph 52769 (\\N{HANGUL SYLLABLE CEUG}) missing from font(s) DejaVu Sans.\n",
      "  fig.canvas.print_figure(bytes_io, **kw)\n"
     ]
    },
    {
     "data": {
      "image/png": "[encoded data removed]",
      "text/plain": [
       "<Figure size 1200x1000 with 2 Axes>"
      ]
     },
     "metadata": {},
     "output_type": "display_data"
    },
    {
     "name": "stdout",
     "output_type": "stream",
     "text": [
      "분류 보고서:\n",
      "                           precision    recall  f1-score   support\n",
      "\n",
      "           Standing still       0.80      0.81      0.80       192\n",
      "     Sitting and relaxing       0.84      0.78      0.81       192\n",
      "               Lying down       0.88      0.95      0.91       192\n",
      "                  Walking       0.71      0.74      0.72       192\n",
      "          Climbing stairs       0.61      0.56      0.59       192\n",
      "      Waist bends forward       0.50      0.56      0.53       176\n",
      "Frontal elevation of arms       0.92      0.93      0.93       183\n",
      "Knees bending (crouching)       0.54      0.52      0.53       182\n",
      "                  Cycling       0.91      0.86      0.89       192\n",
      "                  Jogging       0.64      0.83      0.72       192\n",
      "                  Running       0.80      0.78      0.79       192\n",
      "        Jump front & back       0.27      0.05      0.08        64\n",
      "\n",
      "                 accuracy                           0.74      2141\n",
      "                macro avg       0.70      0.70      0.69      2141\n",
      "             weighted avg       0.73      0.74      0.73      2141\n",
      "\n"
     ]
    }
   ],
   "source": [
    "# 저장된 모델 로드\n",
    "model.load_state_dict(torch.load('best_model_mhealth_gyro.pth'))\n",
    "model.eval()\n",
    "\n",
    "all_preds = []\n",
    "all_labels = []\n",
    "\n",
    "with torch.no_grad():\n",
    "    for X_batch, y_batch in val_loader:\n",
    "        X_batch = X_batch.to(device)\n",
    "        y_batch = y_batch.to(device)\n",
    "        \n",
    "        outputs = model(X_batch)\n",
    "        _, preds = torch.max(outputs, 1)\n",
    "        \n",
    "        all_preds.extend(preds.cpu().numpy())\n",
    "        all_labels.extend(y_batch.cpu().numpy())\n",
    "\n",
    "# 혼동 행렬 계산\n",
    "cm = confusion_matrix(all_labels, all_preds)\n",
    "\n",
    "# 클래스 이름 정의 (레이블 인덱스와 매칭)\n",
    "class_names = [\n",
    "    'Standing still',          # 레이블 0\n",
    "    'Sitting and relaxing',    # 레이블 1\n",
    "    'Lying down',              # 레이블 2\n",
    "    'Walking',                 # 레이블 3\n",
    "    'Climbing stairs',         # 레이블 4\n",
    "    'Waist bends forward',     # 레이블 5\n",
    "    'Frontal elevation of arms', # 레이블 6\n",
    "    'Knees bending (crouching)', # 레이블 7\n",
    "    'Cycling',                 # 레이블 8\n",
    "    'Jogging',                 # 레이블 9\n",
    "    'Running',                 # 레이블 10\n",
    "    'Jump front & back'        # 레이블 11\n",
    "]\n",
    "\n",
    "# 혼동 행렬 시각화\n",
    "plt.figure(figsize=(12, 10))\n",
    "sns.heatmap(cm, annot=True, fmt='d', cmap='Blues',\n",
    "            xticklabels=class_names, yticklabels=class_names)\n",
    "plt.ylabel('실제 레이블')\n",
    "plt.xlabel('예측 레이블')\n",
    "plt.title('혼동 행렬')\n",
    "plt.show()\n",
    "\n",
    "# 분류 보고서 출력\n",
    "print(\"분류 보고서:\")\n",
    "print(classification_report(all_labels, all_preds, target_names=class_names))"
   ]
  },
  {
   "cell_type": "code",
   "execution_count": null,
   "id": "e1a900ad-9567-495a-a00d-e431487cfa29",
   "metadata": {},
   "outputs": [],
   "source": []
  }
 ],
 "metadata": {
  "kernelspec": {
   "display_name": "Python 3 (ipykernel)",
   "language": "python",
   "name": "python3"
  },
  "language_info": {
   "codemirror_mode": {
    "name": "ipython",
    "version": 3
   },
   "file_extension": ".py",
   "mimetype": "text/x-python",
   "name": "python",
   "nbconvert_exporter": "python",
   "pygments_lexer": "ipython3",
   "version": "3.10.15"
  }
 },
 "nbformat": 4,
 "nbformat_minor": 5
}
